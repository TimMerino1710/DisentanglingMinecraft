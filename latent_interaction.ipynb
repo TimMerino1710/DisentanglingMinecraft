{
 "cells": [
  {
   "cell_type": "markdown",
   "metadata": {},
   "source": [
    "# Imports"
   ]
  },
  {
   "cell_type": "code",
   "execution_count": 1,
   "metadata": {},
   "outputs": [],
   "source": [
    "import torch\n",
    "import torch.nn as nn\n",
    "import torch.nn.functional as F\n",
    "from pathlib import Path\n",
    "import matplotlib.pyplot as plt\n",
    "import matplotlib\n",
    "import numpy as np\n",
    "from sampler_utils import retrieve_autoencoder_components_state_dicts, latent_ids_to_onehot3d, get_latent_loaders\n",
    "from models3d import VQAutoEncoder, Generator\n",
    "import matplotlib.pyplot as plt\n",
    "from ipywidgets import interact, fixed\n",
    "from matplotlib.backends.backend_agg import FigureCanvasAgg as FigureCanvas\n",
    "from concurrent.futures import ThreadPoolExecutor\n",
    "from PIL import Image\n",
    "import torch.distributions as dists\n",
    "from tqdm import tqdm\n",
    "import gc\n",
    "from models3d import BiomeClassifier\n",
    "\n"
   ]
  },
  {
   "cell_type": "markdown",
   "metadata": {},
   "source": [
    "# FQVAE helper functions"
   ]
  },
  {
   "cell_type": "code",
   "execution_count": 4,
   "metadata": {},
   "outputs": [],
   "source": [
    "import os\n",
    "from log_utils import log, load_stats, load_model\n",
    "import copy\n",
    "from fq_models import FQModel, HparamsFQGAN\n",
    "\n",
    "\n",
    "# Loads hparams from hparams.json file in saved model directory\n",
    "def load_hparams_from_json(log_dir):\n",
    "    import json\n",
    "    import os\n",
    "    json_path = os.path.join(log_dir, 'hparams.json')\n",
    "    \n",
    "    if not os.path.exists(json_path):\n",
    "        raise FileNotFoundError(f\"No hparams.json file found in {log_dir}\")\n",
    "    \n",
    "    with open(json_path, 'r') as f:\n",
    "        hparams = json.load(f)\n",
    "\n",
    "    return hparams\n",
    "\n",
    "# turns loaded hparams json into propery hyperparams object\n",
    "def dict_to_vcqgan_hparams(hparams_dict, dataset=None):\n",
    "    # Determine which hyperparameter class to use based on the dataset\n",
    "    if dataset == None:\n",
    "        dataset = hparams_dict.get('dataset', 'MNIST')  # Default to MNIST if not specified\n",
    "    \n",
    "    vq_hyper = HparamsFQGAN(dataset)\n",
    "    # Set attributes from the dictionary\n",
    "    for key, value in hparams_dict.items():\n",
    "        setattr(vq_hyper, key, value)\n",
    "    \n",
    "    return vq_hyper\n",
    "\n",
    "# Loads fqgan model weights from a given checkpoint file\n",
    "def load_fqgan_from_checkpoint(H, fqgan):\n",
    "    fqgan = load_model(fqgan, \"fqgan\", H.load_step, H.load_dir).cuda()\n",
    "    fqgan.eval()\n",
    "    return fqgan\n",
    "\n",
    "# Takes a chunk or batch of chunks from the dataset, returns the encoded style and structure indices matrices\n",
    "def encode_and_quantize(fqgan, terrain_chunks, device='cuda'):\n",
    "    \"\"\"Memory-efficient encoding function\"\"\"\n",
    "    fqgan.eval()\n",
    "    with torch.no_grad():\n",
    "        # Move input to device\n",
    "        terrain_chunks = terrain_chunks.to(device)\n",
    "        \n",
    "        # Get encodings\n",
    "        h_style, h_struct = fqgan.encoder(terrain_chunks)\n",
    "        \n",
    "        # Process style path\n",
    "        h_style = fqgan.quant_conv_style(h_style)\n",
    "        quant_style, _, style_stats = fqgan.quantize_style(h_style)\n",
    "        style_indices = style_stats[2]  # Get indices from tuple\n",
    "        style_indices = style_indices.view(\n",
    "            (h_style.size()[0], h_style.size()[2], h_style.size()[3], h_style.size()[4])\n",
    "        )\n",
    "        \n",
    "        # Clear intermediate tensors\n",
    "        del h_style, quant_style, style_stats\n",
    "        \n",
    "        # Process structure path\n",
    "        h_struct = fqgan.quant_conv_struct(h_struct)\n",
    "        quant_struct, _, struct_stats = fqgan.quantize_struct(h_struct)\n",
    "        struct_indices = struct_stats[2]  # Get indices from tuple\n",
    "        struct_indices = struct_indices.view(\n",
    "            (h_struct.size()[0], h_struct.size()[2], h_struct.size()[3], h_struct.size()[4])\n",
    "        )\n",
    "        \n",
    "        # Clear intermediate tensors\n",
    "        del h_struct, quant_struct, struct_stats\n",
    "        \n",
    "        # Move indices to CPU to save GPU memory\n",
    "        style_indices = style_indices.cpu()\n",
    "        struct_indices = struct_indices.cpu()\n",
    "        \n",
    "        torch.cuda.empty_cache()\n",
    "        \n",
    "        return style_indices, struct_indices\n",
    "\n",
    "# Takes style and structure indices, returns the reconstructed map\n",
    "def decode_from_indices(style_indices, struct_indices, fqgan, device='cuda', two_stage=False, return_raw=False):\n",
    "    \"\"\"Memory-efficient decoding function\"\"\"\n",
    "    with torch.no_grad():\n",
    "        # Move indices to device only when needed\n",
    "        style_indices = style_indices.to(device)\n",
    "        struct_indices = struct_indices.to(device)\n",
    "        \n",
    "        # Get quantized vectors\n",
    "        quant_style = fqgan.quantize_style.get_codebook_entry(\n",
    "            style_indices.view(-1),\n",
    "            shape=[1, fqgan.embed_dim, *style_indices.shape[1:]]\n",
    "        )\n",
    "        quant_struct = fqgan.quantize_struct.get_codebook_entry(\n",
    "            struct_indices.view(-1),\n",
    "            shape=[1, fqgan.embed_dim, *struct_indices.shape[1:]]\n",
    "        )\n",
    "        \n",
    "        # Clear indices from GPU\n",
    "        del style_indices, struct_indices\n",
    "        \n",
    "        # Combine and decode\n",
    "        quant = torch.cat([quant_struct, quant_style], dim=1)\n",
    "        # quant = quant_style + quant_struct\n",
    "        del quant_style, quant_struct\n",
    "        \n",
    "        if two_stage:\n",
    "            decoded, binary_decoded = fqgan.decoder(quant)\n",
    "        else:\n",
    "            decoded = fqgan.decoder(quant)\n",
    "        \n",
    "        del quant\n",
    "\n",
    "        if return_raw:\n",
    "            return decoded\n",
    "        \n",
    "        # Convert to block IDs if one-hot encoded\n",
    "        if decoded.shape[1] > 1:\n",
    "            decoded = torch.argmax(decoded, dim=1)\n",
    "        \n",
    "        # Move result to CPU and clear GPU memory\n",
    "        result = decoded.squeeze(0).cpu()\n",
    "        if two_stage:\n",
    "            binary_result = binary_decoded.squeeze(0).cpu()\n",
    "            del decoded\n",
    "            del binary_decoded\n",
    "            torch.cuda.empty_cache()\n",
    "            return result, binary_result\n",
    "        \n",
    "        del decoded\n",
    "        torch.cuda.empty_cache()\n",
    "        \n",
    "        return result"
   ]
  },
  {
   "cell_type": "markdown",
   "metadata": {},
   "source": [
    "# Load FQ model"
   ]
  },
  {
   "cell_type": "code",
   "execution_count": 6,
   "metadata": {},
   "outputs": [
    {
     "name": "stdout",
     "output_type": "stream",
     "text": [
      "using padding mode: reflect\n",
      "With cycle consistency: True type: post_quant_conv, using gumbel: True\n",
      "Using EMA quantizer\n",
      "Using  TwoStageGenerator\n",
      "Detaching binary reconstruction from comp graph for final loss\n",
      "NO biome supervision\n",
      "Disentangle Ratio:  0.5\n",
      "Loading fqgan_12000.th\n",
      "loaded from: FQGAN_2stagedecoder_logweighted3_1632codes_notdumb_0wd_nocc_withwater_vertflips\n"
     ]
    }
   ],
   "source": [
    "# replace with directory for whatever model you want\n",
    "model_name = 'model_name'\n",
    "model_path = f'model_dir/{model_name}'\n",
    "model_checkpoint_step = 12000\n",
    "fqgan_hparams =  dict_to_vcqgan_hparams(load_hparams_from_json(f\"{model_path}\"), 'minecraft')\n",
    "fqgan_hparams.load_step = model_checkpoint_step\n",
    "fqgan = FQModel(fqgan_hparams)\n",
    "fqgan = load_fqgan_from_checkpoint(fqgan_hparams, fqgan)\n",
    "print(f'loaded from: {fqgan_hparams.log_dir}')"
   ]
  },
  {
   "cell_type": "code",
   "execution_count": 8,
   "metadata": {},
   "outputs": [],
   "source": [
    "from data_utils import BlockBiomeConverter\n",
    "mappings_path = '24_newdataset_mappings3.pt'\n",
    "block_converter = BlockBiomeConverter.load_mappings(mappings_path)"
   ]
  },
  {
   "cell_type": "code",
   "execution_count": 9,
   "metadata": {},
   "outputs": [
    {
     "data": {
      "application/javascript": "(function(root) {\n  function now() {\n    return new Date();\n  }\n\n  var force = true;\n  var py_version = '3.4.3'.replace('rc', '-rc.').replace('.dev', '-dev.');\n  var reloading = false;\n  var Bokeh = root.Bokeh;\n\n  if (typeof (root._bokeh_timeout) === \"undefined\" || force) {\n    root._bokeh_timeout = Date.now() + 5000;\n    root._bokeh_failed_load = false;\n  }\n\n  function run_callbacks() {\n    try {\n      root._bokeh_onload_callbacks.forEach(function(callback) {\n        if (callback != null)\n          callback();\n      });\n    } finally {\n      delete root._bokeh_onload_callbacks;\n    }\n    console.debug(\"Bokeh: all callbacks have finished\");\n  }\n\n  function load_libs(css_urls, js_urls, js_modules, js_exports, callback) {\n    if (css_urls == null) css_urls = [];\n    if (js_urls == null) js_urls = [];\n    if (js_modules == null) js_modules = [];\n    if (js_exports == null) js_exports = {};\n\n    root._bokeh_onload_callbacks.push(callback);\n\n    if (root._bokeh_is_loading > 0) {\n      console.debug(\"Bokeh: BokehJS is being loaded, scheduling callback at\", now());\n      return null;\n    }\n    if (js_urls.length === 0 && js_modules.length === 0 && Object.keys(js_exports).length === 0) {\n      run_callbacks();\n      return null;\n    }\n    if (!reloading) {\n      console.debug(\"Bokeh: BokehJS not loaded, scheduling load and callback at\", now());\n    }\n\n    function on_load() {\n      root._bokeh_is_loading--;\n      if (root._bokeh_is_loading === 0) {\n        console.debug(\"Bokeh: all BokehJS libraries/stylesheets loaded\");\n        run_callbacks()\n      }\n    }\n    window._bokeh_on_load = on_load\n\n    function on_error() {\n      console.error(\"failed to load \" + url);\n    }\n\n    var skip = [];\n    if (window.requirejs) {\n      window.requirejs.config({'packages': {}, 'paths': {'vtk': 'https://cdn.jsdelivr.net/npm/vtk.js@30.1.0/vtk'}, 'shim': {'vtk': {'exports': 'vtk'}}});\n      require([\"vtk\"], function() {\n\ton_load()\n      })\n      root._bokeh_is_loading = css_urls.length + 1;\n    } else {\n      root._bokeh_is_loading = css_urls.length + js_urls.length + js_modules.length + Object.keys(js_exports).length;\n    }\n\n    var existing_stylesheets = []\n    var links = document.getElementsByTagName('link')\n    for (var i = 0; i < links.length; i++) {\n      var link = links[i]\n      if (link.href != null) {\n\texisting_stylesheets.push(link.href)\n      }\n    }\n    for (var i = 0; i < css_urls.length; i++) {\n      var url = css_urls[i];\n      if (existing_stylesheets.indexOf(url) !== -1) {\n\ton_load()\n\tcontinue;\n      }\n      const element = document.createElement(\"link\");\n      element.onload = on_load;\n      element.onerror = on_error;\n      element.rel = \"stylesheet\";\n      element.type = \"text/css\";\n      element.href = url;\n      console.debug(\"Bokeh: injecting link tag for BokehJS stylesheet: \", url);\n      document.body.appendChild(element);\n    }    if (((window.vtk !== undefined) && (!(window.vtk instanceof HTMLElement))) || window.requirejs) {\n      var urls = ['https://cdn.holoviz.org/panel/1.4.5/dist/bundled/abstractvtkplot/vtk.js@30.1.0/vtk.js'];\n      for (var i = 0; i < urls.length; i++) {\n        skip.push(urls[i])\n      }\n    }    var existing_scripts = []\n    var scripts = document.getElementsByTagName('script')\n    for (var i = 0; i < scripts.length; i++) {\n      var script = scripts[i]\n      if (script.src != null) {\n\texisting_scripts.push(script.src)\n      }\n    }\n    for (var i = 0; i < js_urls.length; i++) {\n      var url = js_urls[i];\n      if (skip.indexOf(url) !== -1 || existing_scripts.indexOf(url) !== -1) {\n\tif (!window.requirejs) {\n\t  on_load();\n\t}\n\tcontinue;\n      }\n      var element = document.createElement('script');\n      element.onload = on_load;\n      element.onerror = on_error;\n      element.async = false;\n      element.src = url;\n      console.debug(\"Bokeh: injecting script tag for BokehJS library: \", url);\n      document.head.appendChild(element);\n    }\n    for (var i = 0; i < js_modules.length; i++) {\n      var url = js_modules[i];\n      if (skip.indexOf(url) !== -1 || existing_scripts.indexOf(url) !== -1) {\n\tif (!window.requirejs) {\n\t  on_load();\n\t}\n\tcontinue;\n      }\n      var element = document.createElement('script');\n      element.onload = on_load;\n      element.onerror = on_error;\n      element.async = false;\n      element.src = url;\n      element.type = \"module\";\n      console.debug(\"Bokeh: injecting script tag for BokehJS library: \", url);\n      document.head.appendChild(element);\n    }\n    for (const name in js_exports) {\n      var url = js_exports[name];\n      if (skip.indexOf(url) >= 0 || root[name] != null) {\n\tif (!window.requirejs) {\n\t  on_load();\n\t}\n\tcontinue;\n      }\n      var element = document.createElement('script');\n      element.onerror = on_error;\n      element.async = false;\n      element.type = \"module\";\n      console.debug(\"Bokeh: injecting script tag for BokehJS library: \", url);\n      element.textContent = `\n      import ${name} from \"${url}\"\n      window.${name} = ${name}\n      window._bokeh_on_load()\n      `\n      document.head.appendChild(element);\n    }\n    if (!js_urls.length && !js_modules.length) {\n      on_load()\n    }\n  };\n\n  function inject_raw_css(css) {\n    const element = document.createElement(\"style\");\n    element.appendChild(document.createTextNode(css));\n    document.body.appendChild(element);\n  }\n\n  var js_urls = [\"https://cdn.holoviz.org/panel/1.4.5/dist/bundled/abstractvtkplot/vtk.js@30.1.0/vtk.js\", \"https://cdn.bokeh.org/bokeh/release/bokeh-3.4.3.min.js\", \"https://cdn.bokeh.org/bokeh/release/bokeh-gl-3.4.3.min.js\", \"https://cdn.bokeh.org/bokeh/release/bokeh-widgets-3.4.3.min.js\", \"https://cdn.bokeh.org/bokeh/release/bokeh-tables-3.4.3.min.js\", \"https://cdn.holoviz.org/panel/1.4.5/dist/panel.min.js\"];\n  var js_modules = [];\n  var js_exports = {};\n  var css_urls = [];\n  var inline_js = [    function(Bokeh) {\n      Bokeh.set_log_level(\"info\");\n    },\nfunction(Bokeh) {} // ensure no trailing comma for IE\n  ];\n\n  function run_inline_js() {\n    if ((root.Bokeh !== undefined) || (force === true)) {\n      for (var i = 0; i < inline_js.length; i++) {\n\ttry {\n          inline_js[i].call(root, root.Bokeh);\n\t} catch(e) {\n\t  if (!reloading) {\n\t    throw e;\n\t  }\n\t}\n      }\n      // Cache old bokeh versions\n      if (Bokeh != undefined && !reloading) {\n\tvar NewBokeh = root.Bokeh;\n\tif (Bokeh.versions === undefined) {\n\t  Bokeh.versions = new Map();\n\t}\n\tif (NewBokeh.version !== Bokeh.version) {\n\t  Bokeh.versions.set(NewBokeh.version, NewBokeh)\n\t}\n\troot.Bokeh = Bokeh;\n      }} else if (Date.now() < root._bokeh_timeout) {\n      setTimeout(run_inline_js, 100);\n    } else if (!root._bokeh_failed_load) {\n      console.log(\"Bokeh: BokehJS failed to load within specified timeout.\");\n      root._bokeh_failed_load = true;\n    }\n    root._bokeh_is_initializing = false\n  }\n\n  function load_or_wait() {\n    // Implement a backoff loop that tries to ensure we do not load multiple\n    // versions of Bokeh and its dependencies at the same time.\n    // In recent versions we use the root._bokeh_is_initializing flag\n    // to determine whether there is an ongoing attempt to initialize\n    // bokeh, however for backward compatibility we also try to ensure\n    // that we do not start loading a newer (Panel>=1.0 and Bokeh>3) version\n    // before older versions are fully initialized.\n    if (root._bokeh_is_initializing && Date.now() > root._bokeh_timeout) {\n      root._bokeh_is_initializing = false;\n      root._bokeh_onload_callbacks = undefined;\n      console.log(\"Bokeh: BokehJS was loaded multiple times but one version failed to initialize.\");\n      load_or_wait();\n    } else if (root._bokeh_is_initializing || (typeof root._bokeh_is_initializing === \"undefined\" && root._bokeh_onload_callbacks !== undefined)) {\n      setTimeout(load_or_wait, 100);\n    } else {\n      root._bokeh_is_initializing = true\n      root._bokeh_onload_callbacks = []\n      var bokeh_loaded = Bokeh != null && (Bokeh.version === py_version || (Bokeh.versions !== undefined && Bokeh.versions.has(py_version)));\n      if (!reloading && !bokeh_loaded) {\n\troot.Bokeh = undefined;\n      }\n      load_libs(css_urls, js_urls, js_modules, js_exports, function() {\n\tconsole.debug(\"Bokeh: BokehJS plotting callback run at\", now());\n\trun_inline_js();\n      });\n    }\n  }\n  // Give older versions of the autoload script a head-start to ensure\n  // they initialize before we start loading newer version.\n  setTimeout(load_or_wait, 100)\n}(window));",
      "application/vnd.holoviews_load.v0+json": ""
     },
     "metadata": {},
     "output_type": "display_data"
    },
    {
     "data": {
      "application/javascript": "\nif ((window.PyViz === undefined) || (window.PyViz instanceof HTMLElement)) {\n  window.PyViz = {comms: {}, comm_status:{}, kernels:{}, receivers: {}, plot_index: []}\n}\n\n\n    function JupyterCommManager() {\n    }\n\n    JupyterCommManager.prototype.register_target = function(plot_id, comm_id, msg_handler) {\n      if (window.comm_manager || ((window.Jupyter !== undefined) && (Jupyter.notebook.kernel != null))) {\n        var comm_manager = window.comm_manager || Jupyter.notebook.kernel.comm_manager;\n        comm_manager.register_target(comm_id, function(comm) {\n          comm.on_msg(msg_handler);\n        });\n      } else if ((plot_id in window.PyViz.kernels) && (window.PyViz.kernels[plot_id])) {\n        window.PyViz.kernels[plot_id].registerCommTarget(comm_id, function(comm) {\n          comm.onMsg = msg_handler;\n        });\n      } else if (typeof google != 'undefined' && google.colab.kernel != null) {\n        google.colab.kernel.comms.registerTarget(comm_id, (comm) => {\n          var messages = comm.messages[Symbol.asyncIterator]();\n          function processIteratorResult(result) {\n            var message = result.value;\n            console.log(message)\n            var content = {data: message.data, comm_id};\n            var buffers = []\n            for (var buffer of message.buffers || []) {\n              buffers.push(new DataView(buffer))\n            }\n            var metadata = message.metadata || {};\n            var msg = {content, buffers, metadata}\n            msg_handler(msg);\n            return messages.next().then(processIteratorResult);\n          }\n          return messages.next().then(processIteratorResult);\n        })\n      }\n    }\n\n    JupyterCommManager.prototype.get_client_comm = function(plot_id, comm_id, msg_handler) {\n      if (comm_id in window.PyViz.comms) {\n        return window.PyViz.comms[comm_id];\n      } else if (window.comm_manager || ((window.Jupyter !== undefined) && (Jupyter.notebook.kernel != null))) {\n        var comm_manager = window.comm_manager || Jupyter.notebook.kernel.comm_manager;\n        var comm = comm_manager.new_comm(comm_id, {}, {}, {}, comm_id);\n        if (msg_handler) {\n          comm.on_msg(msg_handler);\n        }\n      } else if ((plot_id in window.PyViz.kernels) && (window.PyViz.kernels[plot_id])) {\n        var comm = window.PyViz.kernels[plot_id].connectToComm(comm_id);\n        comm.open();\n        if (msg_handler) {\n          comm.onMsg = msg_handler;\n        }\n      } else if (typeof google != 'undefined' && google.colab.kernel != null) {\n        var comm_promise = google.colab.kernel.comms.open(comm_id)\n        comm_promise.then((comm) => {\n          window.PyViz.comms[comm_id] = comm;\n          if (msg_handler) {\n            var messages = comm.messages[Symbol.asyncIterator]();\n            function processIteratorResult(result) {\n              var message = result.value;\n              var content = {data: message.data};\n              var metadata = message.metadata || {comm_id};\n              var msg = {content, metadata}\n              msg_handler(msg);\n              return messages.next().then(processIteratorResult);\n            }\n            return messages.next().then(processIteratorResult);\n          }\n        })\n        var sendClosure = (data, metadata, buffers, disposeOnDone) => {\n          return comm_promise.then((comm) => {\n            comm.send(data, metadata, buffers, disposeOnDone);\n          });\n        };\n        var comm = {\n          send: sendClosure\n        };\n      }\n      window.PyViz.comms[comm_id] = comm;\n      return comm;\n    }\n    window.PyViz.comm_manager = new JupyterCommManager();\n    \n\n\nvar JS_MIME_TYPE = 'application/javascript';\nvar HTML_MIME_TYPE = 'text/html';\nvar EXEC_MIME_TYPE = 'application/vnd.holoviews_exec.v0+json';\nvar CLASS_NAME = 'output';\n\n/**\n * Render data to the DOM node\n */\nfunction render(props, node) {\n  var div = document.createElement(\"div\");\n  var script = document.createElement(\"script\");\n  node.appendChild(div);\n  node.appendChild(script);\n}\n\n/**\n * Handle when a new output is added\n */\nfunction handle_add_output(event, handle) {\n  var output_area = handle.output_area;\n  var output = handle.output;\n  if ((output.data == undefined) || (!output.data.hasOwnProperty(EXEC_MIME_TYPE))) {\n    return\n  }\n  var id = output.metadata[EXEC_MIME_TYPE][\"id\"];\n  var toinsert = output_area.element.find(\".\" + CLASS_NAME.split(' ')[0]);\n  if (id !== undefined) {\n    var nchildren = toinsert.length;\n    var html_node = toinsert[nchildren-1].children[0];\n    html_node.innerHTML = output.data[HTML_MIME_TYPE];\n    var scripts = [];\n    var nodelist = html_node.querySelectorAll(\"script\");\n    for (var i in nodelist) {\n      if (nodelist.hasOwnProperty(i)) {\n        scripts.push(nodelist[i])\n      }\n    }\n\n    scripts.forEach( function (oldScript) {\n      var newScript = document.createElement(\"script\");\n      var attrs = [];\n      var nodemap = oldScript.attributes;\n      for (var j in nodemap) {\n        if (nodemap.hasOwnProperty(j)) {\n          attrs.push(nodemap[j])\n        }\n      }\n      attrs.forEach(function(attr) { newScript.setAttribute(attr.name, attr.value) });\n      newScript.appendChild(document.createTextNode(oldScript.innerHTML));\n      oldScript.parentNode.replaceChild(newScript, oldScript);\n    });\n    if (JS_MIME_TYPE in output.data) {\n      toinsert[nchildren-1].children[1].textContent = output.data[JS_MIME_TYPE];\n    }\n    output_area._hv_plot_id = id;\n    if ((window.Bokeh !== undefined) && (id in Bokeh.index)) {\n      window.PyViz.plot_index[id] = Bokeh.index[id];\n    } else {\n      window.PyViz.plot_index[id] = null;\n    }\n  } else if (output.metadata[EXEC_MIME_TYPE][\"server_id\"] !== undefined) {\n    var bk_div = document.createElement(\"div\");\n    bk_div.innerHTML = output.data[HTML_MIME_TYPE];\n    var script_attrs = bk_div.children[0].attributes;\n    for (var i = 0; i < script_attrs.length; i++) {\n      toinsert[toinsert.length - 1].childNodes[1].setAttribute(script_attrs[i].name, script_attrs[i].value);\n    }\n    // store reference to server id on output_area\n    output_area._bokeh_server_id = output.metadata[EXEC_MIME_TYPE][\"server_id\"];\n  }\n}\n\n/**\n * Handle when an output is cleared or removed\n */\nfunction handle_clear_output(event, handle) {\n  var id = handle.cell.output_area._hv_plot_id;\n  var server_id = handle.cell.output_area._bokeh_server_id;\n  if (((id === undefined) || !(id in PyViz.plot_index)) && (server_id !== undefined)) { return; }\n  var comm = window.PyViz.comm_manager.get_client_comm(\"hv-extension-comm\", \"hv-extension-comm\", function () {});\n  if (server_id !== null) {\n    comm.send({event_type: 'server_delete', 'id': server_id});\n    return;\n  } else if (comm !== null) {\n    comm.send({event_type: 'delete', 'id': id});\n  }\n  delete PyViz.plot_index[id];\n  if ((window.Bokeh !== undefined) & (id in window.Bokeh.index)) {\n    var doc = window.Bokeh.index[id].model.document\n    doc.clear();\n    const i = window.Bokeh.documents.indexOf(doc);\n    if (i > -1) {\n      window.Bokeh.documents.splice(i, 1);\n    }\n  }\n}\n\n/**\n * Handle kernel restart event\n */\nfunction handle_kernel_cleanup(event, handle) {\n  delete PyViz.comms[\"hv-extension-comm\"];\n  window.PyViz.plot_index = {}\n}\n\n/**\n * Handle update_display_data messages\n */\nfunction handle_update_output(event, handle) {\n  handle_clear_output(event, {cell: {output_area: handle.output_area}})\n  handle_add_output(event, handle)\n}\n\nfunction register_renderer(events, OutputArea) {\n  function append_mime(data, metadata, element) {\n    // create a DOM node to render to\n    var toinsert = this.create_output_subarea(\n    metadata,\n    CLASS_NAME,\n    EXEC_MIME_TYPE\n    );\n    this.keyboard_manager.register_events(toinsert);\n    // Render to node\n    var props = {data: data, metadata: metadata[EXEC_MIME_TYPE]};\n    render(props, toinsert[0]);\n    element.append(toinsert);\n    return toinsert\n  }\n\n  events.on('output_added.OutputArea', handle_add_output);\n  events.on('output_updated.OutputArea', handle_update_output);\n  events.on('clear_output.CodeCell', handle_clear_output);\n  events.on('delete.Cell', handle_clear_output);\n  events.on('kernel_ready.Kernel', handle_kernel_cleanup);\n\n  OutputArea.prototype.register_mime_type(EXEC_MIME_TYPE, append_mime, {\n    safe: true,\n    index: 0\n  });\n}\n\nif (window.Jupyter !== undefined) {\n  try {\n    var events = require('base/js/events');\n    var OutputArea = require('notebook/js/outputarea').OutputArea;\n    if (OutputArea.prototype.mime_types().indexOf(EXEC_MIME_TYPE) == -1) {\n      register_renderer(events, OutputArea);\n    }\n  } catch(err) {\n  }\n}\n",
      "application/vnd.holoviews_load.v0+json": ""
     },
     "metadata": {},
     "output_type": "display_data"
    },
    {
     "data": {
      "text/html": [
       "<style>*[data-root-id],\n",
       "*[data-root-id] > * {\n",
       "  box-sizing: border-box;\n",
       "  font-family: var(--jp-ui-font-family);\n",
       "  font-size: var(--jp-ui-font-size1);\n",
       "  color: var(--vscode-editor-foreground, var(--jp-ui-font-color1));\n",
       "}\n",
       "\n",
       "/* Override VSCode background color */\n",
       ".cell-output-ipywidget-background:has(\n",
       "    > .cell-output-ipywidget-background > .lm-Widget > *[data-root-id]\n",
       "  ),\n",
       ".cell-output-ipywidget-background:has(> .lm-Widget > *[data-root-id]) {\n",
       "  background-color: transparent !important;\n",
       "}\n",
       "</style>"
      ]
     },
     "metadata": {},
     "output_type": "display_data"
    },
    {
     "data": {
      "application/vnd.holoviews_exec.v0+json": "",
      "text/html": [
       "<div id='7648d037-2dfc-453c-a399-f9d772ef1ab8'>\n",
       "  <div id=\"cd97cf76-7eec-4de2-b7a2-9502450b790b\" data-root-id=\"7648d037-2dfc-453c-a399-f9d772ef1ab8\" style=\"display: contents;\"></div>\n",
       "</div>\n",
       "<script type=\"application/javascript\">(function(root) {\n",
       "  var docs_json = {\"60320826-21a3-4fee-812d-babafe485f54\":{\"version\":\"3.4.3\",\"title\":\"Bokeh Application\",\"roots\":[{\"type\":\"object\",\"name\":\"panel.models.browser.BrowserInfo\",\"id\":\"7648d037-2dfc-453c-a399-f9d772ef1ab8\"},{\"type\":\"object\",\"name\":\"panel.models.comm_manager.CommManager\",\"id\":\"eb0ea80e-edf4-4cc4-b796-811452ab4d0b\",\"attributes\":{\"plot_id\":\"7648d037-2dfc-453c-a399-f9d772ef1ab8\",\"comm_id\":\"b0787dc1e5454fe3a54bf424c6a4e5da\",\"client_comm_id\":\"409ca61a274640c2a384c3cb119d969e\"}}],\"defs\":[{\"type\":\"model\",\"name\":\"ReactiveHTML1\"},{\"type\":\"model\",\"name\":\"FlexBox1\",\"properties\":[{\"name\":\"align_content\",\"kind\":\"Any\",\"default\":\"flex-start\"},{\"name\":\"align_items\",\"kind\":\"Any\",\"default\":\"flex-start\"},{\"name\":\"flex_direction\",\"kind\":\"Any\",\"default\":\"row\"},{\"name\":\"flex_wrap\",\"kind\":\"Any\",\"default\":\"wrap\"},{\"name\":\"gap\",\"kind\":\"Any\",\"default\":\"\"},{\"name\":\"justify_content\",\"kind\":\"Any\",\"default\":\"flex-start\"}]},{\"type\":\"model\",\"name\":\"FloatPanel1\",\"properties\":[{\"name\":\"config\",\"kind\":\"Any\",\"default\":{\"type\":\"map\"}},{\"name\":\"contained\",\"kind\":\"Any\",\"default\":true},{\"name\":\"position\",\"kind\":\"Any\",\"default\":\"right-top\"},{\"name\":\"offsetx\",\"kind\":\"Any\",\"default\":null},{\"name\":\"offsety\",\"kind\":\"Any\",\"default\":null},{\"name\":\"theme\",\"kind\":\"Any\",\"default\":\"primary\"},{\"name\":\"status\",\"kind\":\"Any\",\"default\":\"normalized\"}]},{\"type\":\"model\",\"name\":\"GridStack1\",\"properties\":[{\"name\":\"mode\",\"kind\":\"Any\",\"default\":\"warn\"},{\"name\":\"ncols\",\"kind\":\"Any\",\"default\":null},{\"name\":\"nrows\",\"kind\":\"Any\",\"default\":null},{\"name\":\"allow_resize\",\"kind\":\"Any\",\"default\":true},{\"name\":\"allow_drag\",\"kind\":\"Any\",\"default\":true},{\"name\":\"state\",\"kind\":\"Any\",\"default\":[]}]},{\"type\":\"model\",\"name\":\"drag1\",\"properties\":[{\"name\":\"slider_width\",\"kind\":\"Any\",\"default\":5},{\"name\":\"slider_color\",\"kind\":\"Any\",\"default\":\"black\"},{\"name\":\"value\",\"kind\":\"Any\",\"default\":50}]},{\"type\":\"model\",\"name\":\"click1\",\"properties\":[{\"name\":\"terminal_output\",\"kind\":\"Any\",\"default\":\"\"},{\"name\":\"debug_name\",\"kind\":\"Any\",\"default\":\"\"},{\"name\":\"clears\",\"kind\":\"Any\",\"default\":0}]},{\"type\":\"model\",\"name\":\"FastWrapper1\",\"properties\":[{\"name\":\"object\",\"kind\":\"Any\",\"default\":null},{\"name\":\"style\",\"kind\":\"Any\",\"default\":null}]},{\"type\":\"model\",\"name\":\"NotificationAreaBase1\",\"properties\":[{\"name\":\"js_events\",\"kind\":\"Any\",\"default\":{\"type\":\"map\"}},{\"name\":\"position\",\"kind\":\"Any\",\"default\":\"bottom-right\"},{\"name\":\"_clear\",\"kind\":\"Any\",\"default\":0}]},{\"type\":\"model\",\"name\":\"NotificationArea1\",\"properties\":[{\"name\":\"js_events\",\"kind\":\"Any\",\"default\":{\"type\":\"map\"}},{\"name\":\"notifications\",\"kind\":\"Any\",\"default\":[]},{\"name\":\"position\",\"kind\":\"Any\",\"default\":\"bottom-right\"},{\"name\":\"_clear\",\"kind\":\"Any\",\"default\":0},{\"name\":\"types\",\"kind\":\"Any\",\"default\":[{\"type\":\"map\",\"entries\":[[\"type\",\"warning\"],[\"background\",\"#ffc107\"],[\"icon\",{\"type\":\"map\",\"entries\":[[\"className\",\"fas fa-exclamation-triangle\"],[\"tagName\",\"i\"],[\"color\",\"white\"]]}]]},{\"type\":\"map\",\"entries\":[[\"type\",\"info\"],[\"background\",\"#007bff\"],[\"icon\",{\"type\":\"map\",\"entries\":[[\"className\",\"fas fa-info-circle\"],[\"tagName\",\"i\"],[\"color\",\"white\"]]}]]}]}]},{\"type\":\"model\",\"name\":\"Notification\",\"properties\":[{\"name\":\"background\",\"kind\":\"Any\",\"default\":null},{\"name\":\"duration\",\"kind\":\"Any\",\"default\":3000},{\"name\":\"icon\",\"kind\":\"Any\",\"default\":null},{\"name\":\"message\",\"kind\":\"Any\",\"default\":\"\"},{\"name\":\"notification_type\",\"kind\":\"Any\",\"default\":null},{\"name\":\"_destroyed\",\"kind\":\"Any\",\"default\":false}]},{\"type\":\"model\",\"name\":\"TemplateActions1\",\"properties\":[{\"name\":\"open_modal\",\"kind\":\"Any\",\"default\":0},{\"name\":\"close_modal\",\"kind\":\"Any\",\"default\":0}]},{\"type\":\"model\",\"name\":\"BootstrapTemplateActions1\",\"properties\":[{\"name\":\"open_modal\",\"kind\":\"Any\",\"default\":0},{\"name\":\"close_modal\",\"kind\":\"Any\",\"default\":0}]},{\"type\":\"model\",\"name\":\"TemplateEditor1\",\"properties\":[{\"name\":\"layout\",\"kind\":\"Any\",\"default\":[]}]},{\"type\":\"model\",\"name\":\"MaterialTemplateActions1\",\"properties\":[{\"name\":\"open_modal\",\"kind\":\"Any\",\"default\":0},{\"name\":\"close_modal\",\"kind\":\"Any\",\"default\":0}]},{\"type\":\"model\",\"name\":\"copy_to_clipboard1\",\"properties\":[{\"name\":\"fill\",\"kind\":\"Any\",\"default\":\"none\"},{\"name\":\"value\",\"kind\":\"Any\",\"default\":null}]}]}};\n",
       "  var render_items = [{\"docid\":\"60320826-21a3-4fee-812d-babafe485f54\",\"roots\":{\"7648d037-2dfc-453c-a399-f9d772ef1ab8\":\"cd97cf76-7eec-4de2-b7a2-9502450b790b\"},\"root_ids\":[\"7648d037-2dfc-453c-a399-f9d772ef1ab8\"]}];\n",
       "  var docs = Object.values(docs_json)\n",
       "  if (!docs) {\n",
       "    return\n",
       "  }\n",
       "  const py_version = docs[0].version.replace('rc', '-rc.').replace('.dev', '-dev.')\n",
       "  async function embed_document(root) {\n",
       "    var Bokeh = get_bokeh(root)\n",
       "    await Bokeh.embed.embed_items_notebook(docs_json, render_items);\n",
       "    for (const render_item of render_items) {\n",
       "      for (const root_id of render_item.root_ids) {\n",
       "\tconst id_el = document.getElementById(root_id)\n",
       "\tif (id_el.children.length && id_el.children[0].hasAttribute('data-root-id')) {\n",
       "\t  const root_el = id_el.children[0]\n",
       "\t  root_el.id = root_el.id + '-rendered'\n",
       "\t  for (const child of root_el.children) {\n",
       "            // Ensure JupyterLab does not capture keyboard shortcuts\n",
       "            // see: https://jupyterlab.readthedocs.io/en/4.1.x/extension/notebook.html#keyboard-interaction-model\n",
       "\t    child.setAttribute('data-lm-suppress-shortcuts', 'true')\n",
       "\t  }\n",
       "\t}\n",
       "      }\n",
       "    }\n",
       "  }\n",
       "  function get_bokeh(root) {\n",
       "    if (root.Bokeh === undefined) {\n",
       "      return null\n",
       "    } else if (root.Bokeh.version !== py_version) {\n",
       "      if (root.Bokeh.versions === undefined || !root.Bokeh.versions.has(py_version)) {\n",
       "\treturn null\n",
       "      }\n",
       "      return root.Bokeh.versions.get(py_version);\n",
       "    } else if (root.Bokeh.version === py_version) {\n",
       "      return root.Bokeh\n",
       "    }\n",
       "    return null\n",
       "  }\n",
       "  function is_loaded(root) {\n",
       "    var Bokeh = get_bokeh(root)\n",
       "    return (Bokeh != null && Bokeh.Panel !== undefined && ( root.vtk !== undefined) && ( root.vtk !== undefined))\n",
       "  }\n",
       "  if (is_loaded(root)) {\n",
       "    embed_document(root);\n",
       "  } else {\n",
       "    var attempts = 0;\n",
       "    var timer = setInterval(function(root) {\n",
       "      if (is_loaded(root)) {\n",
       "        clearInterval(timer);\n",
       "        embed_document(root);\n",
       "      } else if (document.readyState == \"complete\") {\n",
       "        attempts++;\n",
       "        if (attempts > 200) {\n",
       "          clearInterval(timer);\n",
       "\t  var Bokeh = get_bokeh(root)\n",
       "\t  if (Bokeh == null || Bokeh.Panel == null) {\n",
       "            console.warn(\"Panel: ERROR: Unable to run Panel code because Bokeh or Panel library is missing\");\n",
       "\t  } else {\n",
       "\t    console.warn(\"Panel: WARNING: Attempting to render but not all required libraries could be resolved.\")\n",
       "\t    embed_document(root)\n",
       "\t  }\n",
       "        }\n",
       "      }\n",
       "    }, 25, root)\n",
       "  }\n",
       "})(window);</script>"
      ]
     },
     "metadata": {
      "application/vnd.holoviews_exec.v0+json": {
       "id": "7648d037-2dfc-453c-a399-f9d772ef1ab8"
      }
     },
     "output_type": "display_data"
    }
   ],
   "source": [
    "# Create an instnance of our visualizer\n",
    "from visualization_utils import MinecraftVisualizerPyVista\n",
    "visualizer = MinecraftVisualizerPyVista()\n"
   ]
  },
  {
   "cell_type": "markdown",
   "metadata": {},
   "source": [
    "# Four Corners Map"
   ]
  },
  {
   "cell_type": "code",
   "execution_count": 16,
   "metadata": {},
   "outputs": [
    {
     "data": {
      "application/vnd.jupyter.widget-view+json": {
       "model_id": "830bbe6ae9f54e76b74d01ae5ab60c1f",
       "version_major": 2,
       "version_minor": 0
      },
      "text/plain": [
       "Widget(value='<iframe src=\"http://localhost:53056/index.html?ui=P_0x1e75192ca60_35&reconnect=auto\" class=\"pyvi…"
      ]
     },
     "metadata": {},
     "output_type": "display_data"
    },
    {
     "data": {
      "application/vnd.jupyter.widget-view+json": {
       "model_id": "990b5ca86f0a416b8220c5e3ce933217",
       "version_major": 2,
       "version_minor": 0
      },
      "text/plain": [
       "Widget(value='<iframe src=\"http://localhost:53056/index.html?ui=P_0x1e818eba790_36&reconnect=auto\" class=\"pyvi…"
      ]
     },
     "metadata": {},
     "output_type": "display_data"
    },
    {
     "data": {
      "application/vnd.jupyter.widget-view+json": {
       "model_id": "41c34dabdc164ae193d63cf21f22fbcf",
       "version_major": 2,
       "version_minor": 0
      },
      "text/plain": [
       "Widget(value='<iframe src=\"http://localhost:53056/index.html?ui=P_0x1e818eba850_37&reconnect=auto\" class=\"pyvi…"
      ]
     },
     "metadata": {},
     "output_type": "display_data"
    },
    {
     "data": {
      "application/vnd.jupyter.widget-view+json": {
       "model_id": "2bd4936a70824ca99c91a72392bec856",
       "version_major": 2,
       "version_minor": 0
      },
      "text/plain": [
       "Widget(value='<iframe src=\"http://localhost:53056/index.html?ui=P_0x1e81c91eb20_38&reconnect=auto\" class=\"pyvi…"
      ]
     },
     "metadata": {},
     "output_type": "display_data"
    },
    {
     "data": {
      "application/vnd.jupyter.widget-view+json": {
       "model_id": "ac5bc3a577274c9898b52d4553fb8a8d",
       "version_major": 2,
       "version_minor": 0
      },
      "text/plain": [
       "Widget(value='<iframe src=\"http://localhost:53056/index.html?ui=P_0x1e7e4b28cd0_39&reconnect=auto\" class=\"pyvi…"
      ]
     },
     "metadata": {},
     "output_type": "display_data"
    },
    {
     "data": {
      "application/vnd.jupyter.widget-view+json": {
       "model_id": "e8159b106fa14f5cb2b3bd7eb52b4c5e",
       "version_major": 2,
       "version_minor": 0
      },
      "text/plain": [
       "Widget(value='<iframe src=\"http://localhost:53056/index.html?ui=P_0x1e7e4b72ca0_40&reconnect=auto\" class=\"pyvi…"
      ]
     },
     "metadata": {},
     "output_type": "display_data"
    },
    {
     "data": {
      "application/vnd.jupyter.widget-view+json": {
       "model_id": "de189f1c7e1f4a19bdfb29a4c96d55a5",
       "version_major": 2,
       "version_minor": 0
      },
      "text/plain": [
       "Widget(value='<iframe src=\"http://localhost:53056/index.html?ui=P_0x1e83a481e50_41&reconnect=auto\" class=\"pyvi…"
      ]
     },
     "metadata": {},
     "output_type": "display_data"
    }
   ],
   "source": [
    "sample_name = 'flatgrass_low'\n",
    "sample = torch.load(f'{sample_name}.pt')\n",
    "with torch.no_grad():\n",
    "    style_indices, struct_indices = encode_and_quantize(fqgan, sample)\n",
    "reconstructed, _ = decode_from_indices(style_indices, struct_indices, fqgan, two_stage=True)\n",
    "reconstruct_convert = block_converter.convert_to_original_blocks(reconstructed.squeeze())\n",
    "plotter = visualizer.visualize_chunk(reconstruct_convert, interactive=True, show_axis=False)\n",
    "frame = plotter.screenshot(transparent_background=True, return_img=True)\n",
    "pil_frame = Image.fromarray(frame)\n",
    "pil_frame.save('fourcorner_0.png')\n",
    "plotter.show()\n",
    "\n",
    "y_min = 0\n",
    "y_height = 3\n",
    "\n",
    "close_corner = [(x, y, z) for x in [0, 1, 2] for y in  range(y_min, y_height) for z in  [3, 4, 5]]\n",
    "far_corner = [(x, y, z) for x in [3, 4, 5] for y in  range(y_min, y_height) for z in  [0, 1, 2]]\n",
    "left_corner = [(x, y, z) for x in [0, 1, 2] for y in  range(y_min, y_height) for z in  [0, 1, 2]]\n",
    "# right_corner = [(x, y, z) for x in [3, 4, 5] for y in  range(y_min, y_height) for z in  [3, 4, 5]]\n",
    "# right_corner = [(x, y, z) for x in [4] for y in  range(y_height, y_height + 2) for z in  [4, 5]]\n",
    "right_corner_mountain = [(x, y, z) for x in [5] for y in  range(y_height, y_height + 2) for z in  [4, 5]]\n",
    "right_corner_mountain += [(x, y, z) for x in [4] for y in  range(y_height, y_height + 2) for z in  [5]]\n",
    "right_corner_slope = [(x, y, z) for x in [5] for y in  range(y_height, y_height + 2) for z in  [3]]\n",
    "right_corner_slope += [(x, y, z) for x in [4] for y in  range(y_height, y_height + 2) for z in  [4]]\n",
    "right_corner_slope += [(x, y, z) for x in [3] for y in  range(y_height, y_height + 2) for z in  [5]]\n",
    "right_corner_slope += [(x, y, z) for x in [5] for y in  [y_height + 2] for z in  [5]]\n",
    "right_corner = [(x, y, z) for x in [3] for y in  range(y_height, y_height + 3) for z in  [3, 4]]\n",
    "\n",
    "\n",
    "\n",
    "close_corner_style_val = 4     # sand\n",
    "far_corner_style_val = 3        # stone\n",
    "left_corner_style_val = 2       # water\n",
    "right_corner_style_val = 7     # dirt + grass\n",
    "\n",
    "right_mountain_struct_val = 12\n",
    "right_mountain_style_val = 3\n",
    "right_slope_struct_val = 31\n",
    "right_slope_style_val = 7\n",
    "# swap close corner\n",
    "for coord in close_corner:\n",
    "    style_indices[0, coord[0], coord[1], coord[2]] = close_corner_style_val\n",
    "\n",
    "reconstructed, _ = decode_from_indices(style_indices, struct_indices, fqgan, two_stage=True)\n",
    "reconstruct_convert = block_converter.convert_to_original_blocks(reconstructed.squeeze())\n",
    "plotter = visualizer.visualize_chunk(reconstruct_convert, interactive=True, show_axis=False, highlight_latents=close_corner, wireframe_highlight=True)\n",
    "frame = plotter.screenshot(transparent_background=True, return_img=True)\n",
    "pil_frame = Image.fromarray(frame)\n",
    "pil_frame.save('fourcorner_1.png')\n",
    "plotter.show()\n",
    "\n",
    "# swap far corner\n",
    "for coord in far_corner:\n",
    "    style_indices[0, coord[0], coord[1], coord[2]] = far_corner_style_val\n",
    "\n",
    "reconstructed, _ = decode_from_indices(style_indices, struct_indices, fqgan, two_stage=True)\n",
    "reconstruct_convert = block_converter.convert_to_original_blocks(reconstructed.squeeze())\n",
    "plotter = visualizer.visualize_chunk(reconstruct_convert, interactive=True, show_axis=False, highlight_latents=far_corner, wireframe_highlight=True)\n",
    "frame = plotter.screenshot(transparent_background=True, return_img=True)\n",
    "pil_frame = Image.fromarray(frame)\n",
    "pil_frame.save('fourcorner_2.png')\n",
    "plotter.show()\n",
    "\n",
    "# swap left  corner\n",
    "for coord in left_corner:\n",
    "    style_indices[0, coord[0], coord[1], coord[2]] = left_corner_style_val\n",
    "\n",
    "reconstructed, _ = decode_from_indices(style_indices, struct_indices, fqgan, two_stage=True)\n",
    "reconstruct_convert = block_converter.convert_to_original_blocks(reconstructed.squeeze())\n",
    "plotter = visualizer.visualize_chunk(reconstruct_convert, interactive=True, show_axis=False, highlight_latents=left_corner, wireframe_highlight=True)\n",
    "frame = plotter.screenshot(transparent_background=True, return_img=True)\n",
    "pil_frame = Image.fromarray(frame)\n",
    "pil_frame.save('fourcorner_3.png')\n",
    "plotter.show()\n",
    "\n",
    "\n",
    "# swap right  corner\n",
    "# build core out mountain out of stone\n",
    "for coord in right_corner_mountain:\n",
    "    style_indices[0, coord[0], coord[1], coord[2]] = right_mountain_style_val\n",
    "\n",
    "for coord in right_corner_mountain:\n",
    "    struct_indices[0, coord[0], coord[1], coord[2]] = right_mountain_struct_val\n",
    "\n",
    "reconstructed, _ = decode_from_indices(style_indices, struct_indices, fqgan, two_stage=True)\n",
    "reconstruct_convert = block_converter.convert_to_original_blocks(reconstructed.squeeze())\n",
    "plotter = visualizer.visualize_chunk(reconstruct_convert, interactive=True, show_axis=False, highlight_latents=left_corner, wireframe_highlight=True)\n",
    "frame = plotter.screenshot(transparent_background=True, return_img=True)\n",
    "pil_frame = Image.fromarray(frame)\n",
    "pil_frame.save('fourcorner_mountaincore.png')\n",
    "plotter.show()\n",
    "# swap right  corner\n",
    "# build slope of mountain out of grass\n",
    "for coord in right_corner_slope:\n",
    "    style_indices[0, coord[0], coord[1], coord[2]] = right_slope_style_val\n",
    "\n",
    "for coord in right_corner_slope:\n",
    "    struct_indices[0, coord[0], coord[1], coord[2]] = right_slope_struct_val\n",
    "\n",
    "reconstructed, _ = decode_from_indices(style_indices, struct_indices, fqgan, two_stage=True)\n",
    "reconstruct_convert = block_converter.convert_to_original_blocks(reconstructed.squeeze())\n",
    "plotter = visualizer.visualize_chunk(reconstruct_convert, interactive=True, show_axis=False, highlight_latents=left_corner, wireframe_highlight=True)\n",
    "frame = plotter.screenshot(transparent_background=True, return_img=True)\n",
    "pil_frame = Image.fromarray(frame)\n",
    "pil_frame.save('fourcorner_mountainslope.png')\n",
    "plotter.show()\n",
    "\n",
    "# swap right  corner\n",
    "for coord in right_corner:\n",
    "    style_indices[0, coord[0], coord[1], coord[2]] = right_corner_style_val\n",
    "\n",
    "for coord in right_corner:\n",
    "    struct_indices[0, coord[0], coord[1], coord[2]] = 19\n",
    "\n",
    "reconstructed, _ = decode_from_indices(style_indices, struct_indices, fqgan, two_stage=True)\n",
    "reconstruct_convert = block_converter.convert_to_original_blocks(reconstructed.squeeze())\n",
    "plotter = visualizer.visualize_chunk(reconstruct_convert, interactive=True, show_axis=False, highlight_latents=right_corner, wireframe_highlight=True)\n",
    "frame = plotter.screenshot(transparent_background=True, return_img=True)\n",
    "pil_frame = Image.fromarray(frame)\n",
    "pil_frame.save('fourcorner_4.png')\n",
    "plotter.show()"
   ]
  },
  {
   "cell_type": "markdown",
   "metadata": {},
   "source": [
    "# Tunneling Experiments"
   ]
  },
  {
   "cell_type": "markdown",
   "metadata": {},
   "source": [
    "## tunnel 1"
   ]
  },
  {
   "cell_type": "code",
   "execution_count": 110,
   "metadata": {},
   "outputs": [
    {
     "data": {
      "application/vnd.jupyter.widget-view+json": {
       "model_id": "52461aac2c9b424897cdb30738ac8f77",
       "version_major": 2,
       "version_minor": 0
      },
      "text/plain": [
       "Widget(value='<iframe src=\"http://localhost:54701/index.html?ui=P_0x155f462d490_262&reconnect=auto\" class=\"pyv…"
      ]
     },
     "metadata": {},
     "output_type": "display_data"
    },
    {
     "data": {
      "application/vnd.jupyter.widget-view+json": {
       "model_id": "23d580e8d1d44382af283c0588438ddb",
       "version_major": 2,
       "version_minor": 0
      },
      "text/plain": [
       "Widget(value='<iframe src=\"http://localhost:54701/index.html?ui=P_0x1562bdeb760_263&reconnect=auto\" class=\"pyv…"
      ]
     },
     "metadata": {},
     "output_type": "display_data"
    },
    {
     "data": {
      "application/vnd.jupyter.widget-view+json": {
       "model_id": "2ae666667f334c5fa9a2b7013666d3df",
       "version_major": 2,
       "version_minor": 0
      },
      "text/plain": [
       "Widget(value='<iframe src=\"http://localhost:54701/index.html?ui=P_0x1564868e100_264&reconnect=auto\" class=\"pyv…"
      ]
     },
     "metadata": {},
     "output_type": "display_data"
    },
    {
     "data": {
      "application/vnd.jupyter.widget-view+json": {
       "model_id": "c65e1e7b11eb4a509eca3e283639ba66",
       "version_major": 2,
       "version_minor": 0
      },
      "text/plain": [
       "Widget(value='<iframe src=\"http://localhost:54701/index.html?ui=P_0x1564fb77670_266&reconnect=auto\" class=\"pyv…"
      ]
     },
     "metadata": {},
     "output_type": "display_data"
    }
   ],
   "source": [
    "sample_name = 'tunnelablemountain2'\n",
    "sample = torch.load(f'{sample_name}.pt')\n",
    "sample = torch.rot90(sample, k=1, dims=(2, 4))\n",
    "with torch.no_grad():\n",
    "    style_indices, struct_indices = encode_and_quantize(fqgan, sample)\n",
    "reconstructed, _ = decode_from_indices(style_indices, struct_indices, fqgan, two_stage=True)\n",
    "reconstruct_convert = block_converter.convert_to_original_blocks(reconstructed.squeeze())\n",
    "plotter = visualizer.visualize_chunk(reconstruct_convert, interactive=True, show_axis=False)\n",
    "frame = plotter.screenshot(transparent_background=True, return_img=True)\n",
    "pil_frame = Image.fromarray(frame)\n",
    "# pil_frame.save('tunnel_exp_1_orig.png')\n",
    "plotter.show()\n",
    "\n",
    "\n",
    "tunnel_coords = [(x, y, z) for x in [4] for y in  [3] for z in  [1, 2, 3, 4]]\n",
    "tunnel_coords_2 = [(x, y, z) for x in [2, 3, 4] for y in  [3] for z in  [1]]\n",
    "\n",
    "tunnel_style_val = 1        # 1, 6, 7, 8 all seem to correspond to empty areas, start by leaving as is.\n",
    "tunnel_struct_val = 9     # empty, 95.5% of the time\n",
    "\n",
    "# swap close corner\n",
    "for coord in tunnel_coords:\n",
    "    struct_indices[0, coord[0], coord[1], coord[2]] = tunnel_struct_val\n",
    "\n",
    "\n",
    "\n",
    "reconstructed, _ = decode_from_indices(style_indices, struct_indices, fqgan, two_stage=True)\n",
    "reconstruct_convert = block_converter.convert_to_original_blocks(reconstructed.squeeze())\n",
    "plotter = visualizer.visualize_chunk(reconstruct_convert, interactive=True, show_axis=False, highlight_latents=None, wireframe_highlight=True)\n",
    "frame = plotter.screenshot(transparent_background=True, return_img=True)\n",
    "pil_frame = Image.fromarray(frame)\n",
    "# pil_frame.save('tunnel1_firstleg.png')\n",
    "plotter.show()\n",
    "\n",
    "\n",
    "# swap close corner\n",
    "for coord in tunnel_coords_2:\n",
    "    struct_indices[0, coord[0], coord[1], coord[2]] = tunnel_struct_val\n",
    "\n",
    "\n",
    "\n",
    "reconstructed, _ = decode_from_indices(style_indices, struct_indices, fqgan, two_stage=True)\n",
    "reconstruct_convert = block_converter.convert_to_original_blocks(reconstructed.squeeze())\n",
    "plotter = visualizer.visualize_chunk(reconstruct_convert, interactive=True, show_axis=False, highlight_latents=None, wireframe_highlight=True)\n",
    "frame = plotter.screenshot(transparent_background=True, return_img=True)\n",
    "pil_frame = Image.fromarray(frame)\n",
    "# pil_frame.save('tunnel1_secondtleg.png')\n",
    "plotter.show()\n",
    "\n",
    "\n",
    "second_tunnel_coords = [(x, y, z) for x in [0, 1, 2] for y in  [0] for z in  [3]]\n",
    "second_tunnel_coords += [(x, y, z) for x in [2] for y in  [0] for z in  [3, 4, 5]]\n",
    "second_tunnel_coords += [(3, 0, 2), (4, 0, 1), (5, 0, 0)]\n",
    "\n",
    "# swap close corner\n",
    "for coord in second_tunnel_coords:\n",
    "    struct_indices[0, coord[0], coord[1], coord[2]] = tunnel_struct_val\n",
    "\n",
    "\n",
    "\n",
    "reconstructed, _ = decode_from_indices(style_indices, struct_indices, fqgan, two_stage=True)\n",
    "reconstruct_convert = block_converter.convert_to_original_blocks(reconstructed.squeeze())\n",
    "plotter = visualizer.visualize_chunk(reconstruct_convert, interactive=True, show_axis=False, highlight_latents=None, wireframe_highlight=True)\n",
    "\n",
    "reconstrcted_xray = np.copy(reconstruct_convert)\n",
    "reconstrcted_xray[:, 4:, :] = 5\n",
    "plotter = visualizer.visualize_chunk(reconstrcted_xray, interactive=True, show_axis=False, highlight_latents=None, wireframe_highlight=True)\n",
    "frame = plotter.screenshot(transparent_background=True, return_img=True)\n",
    "pil_frame = Image.fromarray(frame)\n",
    "pil_frame.save('tunnel1_secondtunnel_xray.png')\n",
    "plotter.show()\n"
   ]
  },
  {
   "cell_type": "code",
   "execution_count": 38,
   "metadata": {},
   "outputs": [
    {
     "data": {
      "application/vnd.jupyter.widget-view+json": {
       "model_id": "6a99b53861a746fa9a14ed0708354751",
       "version_major": 2,
       "version_minor": 0
      },
      "text/plain": [
       "Widget(value='<iframe src=\"http://localhost:64481/index.html?ui=P_0x1ee926305b0_25&reconnect=auto\" class=\"pyvi…"
      ]
     },
     "metadata": {},
     "output_type": "display_data"
    },
    {
     "data": {
      "application/vnd.jupyter.widget-view+json": {
       "model_id": "0ab6e578241046c7ac0f7cddca1514fd",
       "version_major": 2,
       "version_minor": 0
      },
      "text/plain": [
       "Widget(value='<iframe src=\"http://localhost:64481/index.html?ui=P_0x1ee97b757c0_26&reconnect=auto\" class=\"pyvi…"
      ]
     },
     "metadata": {},
     "output_type": "display_data"
    }
   ],
   "source": [
    "sample_name = 'tunnelablemountain2'\n",
    "sample = torch.load(f'{sample_name}.pt')\n",
    "sample = torch.rot90(sample, k=1, dims=(2, 4))\n",
    "with torch.no_grad():\n",
    "    style_indices, struct_indices = encode_and_quantize(fqgan, sample)\n",
    "reconstructed, _ = decode_from_indices(style_indices, struct_indices, fqgan, two_stage=True)\n",
    "reconstruct_convert = block_converter.convert_to_original_blocks(reconstructed.squeeze())\n",
    "plotter = visualizer.visualize_chunk(reconstruct_convert, interactive=True, show_axis=False)\n",
    "frame = plotter.screenshot(transparent_background=True, return_img=True)\n",
    "pil_frame = Image.fromarray(frame)\n",
    "pil_frame.save('tunnel_exp_1_orig.png')\n",
    "plotter.show()\n",
    "\n",
    "\n",
    "tunnel_coords = [(x, y, z) for x in [4, 5] for y in  [2] for z in  [0, 1]]\n",
    "tunnel_coords += [(3, 3, 3), (3, 3, 2), (3, 3, 1), (4, 3, 2), (2, 3, 2)]\n",
    "\n",
    "tunnel_style_val = 1        # 1, 6, 7, 8 all seem to correspond to empty areas, start by leaving as is.\n",
    "tunnel_struct_val = 9     # empty, 95.5% of the time\n",
    "\n",
    "# swap close corner\n",
    "for coord in tunnel_coords:\n",
    "    struct_indices[0, coord[0], coord[1], coord[2]] = tunnel_struct_val\n",
    "\n",
    "\n",
    "\n",
    "reconstructed, _ = decode_from_indices(style_indices, struct_indices, fqgan, two_stage=True)\n",
    "reconstruct_convert = block_converter.convert_to_original_blocks(reconstructed.squeeze())\n",
    "plotter = visualizer.visualize_chunk(reconstruct_convert, interactive=True, show_axis=False, highlight_latents=tunnel_coords, wireframe_highlight=True)\n",
    "frame = plotter.screenshot(transparent_background=True, return_img=True)\n",
    "pil_frame = Image.fromarray(frame)\n",
    "pil_frame.save('tunnel1_alt.png')\n",
    "plotter.show()\n"
   ]
  },
  {
   "cell_type": "markdown",
   "metadata": {},
   "source": [
    "## tunnel 2"
   ]
  },
  {
   "cell_type": "code",
   "execution_count": 55,
   "metadata": {},
   "outputs": [],
   "source": [
    "import pyvista as pv\n"
   ]
  },
  {
   "cell_type": "code",
   "execution_count": 62,
   "metadata": {},
   "outputs": [
    {
     "data": {
      "application/vnd.jupyter.widget-view+json": {
       "model_id": "a7f4a651be8145e3a90ee2064b5fd8d6",
       "version_major": 2,
       "version_minor": 0
      },
      "text/plain": [
       "Widget(value='<iframe src=\"http://localhost:51129/index.html?ui=P_0x1325a2c3ac0_197&reconnect=auto\" class=\"pyv…"
      ]
     },
     "metadata": {},
     "output_type": "display_data"
    },
    {
     "data": {
      "application/vnd.jupyter.widget-view+json": {
       "model_id": "fdaa1efd6e9848989b6745aef9e26d57",
       "version_major": 2,
       "version_minor": 0
      },
      "text/plain": [
       "Widget(value='<iframe src=\"http://localhost:51129/index.html?ui=P_0x13388c319d0_198&reconnect=auto\" class=\"pyv…"
      ]
     },
     "metadata": {},
     "output_type": "display_data"
    },
    {
     "data": {
      "application/vnd.jupyter.widget-view+json": {
       "model_id": "f821b541ba12473d8bfa5eb7b3834e4c",
       "version_major": 2,
       "version_minor": 0
      },
      "text/plain": [
       "Widget(value='<iframe src=\"http://localhost:51129/index.html?ui=P_0x1332a84fb20_199&reconnect=auto\" class=\"pyv…"
      ]
     },
     "metadata": {},
     "output_type": "display_data"
    },
    {
     "data": {
      "application/vnd.jupyter.widget-view+json": {
       "model_id": "9dc631a9fcc8424c98d793b3128780cf",
       "version_major": 2,
       "version_minor": 0
      },
      "text/plain": [
       "Widget(value='<iframe src=\"http://localhost:51129/index.html?ui=P_0x13145a8a9d0_200&reconnect=auto\" class=\"pyv…"
      ]
     },
     "metadata": {},
     "output_type": "display_data"
    },
    {
     "data": {
      "application/vnd.jupyter.widget-view+json": {
       "model_id": "4a628ea7e3e043b4b229a079cd894113",
       "version_major": 2,
       "version_minor": 0
      },
      "text/plain": [
       "Widget(value='<iframe src=\"http://localhost:51129/index.html?ui=P_0x1317c0c4910_201&reconnect=auto\" class=\"pyv…"
      ]
     },
     "metadata": {},
     "output_type": "display_data"
    },
    {
     "data": {
      "application/vnd.jupyter.widget-view+json": {
       "model_id": "b70afe71bcf84fd4b096e49c711bfd79",
       "version_major": 2,
       "version_minor": 0
      },
      "text/plain": [
       "Widget(value='<iframe src=\"http://localhost:51129/index.html?ui=P_0x13197acb8e0_202&reconnect=auto\" class=\"pyv…"
      ]
     },
     "metadata": {},
     "output_type": "display_data"
    },
    {
     "data": {
      "application/vnd.jupyter.widget-view+json": {
       "model_id": "1db49f5fe9174ff1a7bcc199cb887abb",
       "version_major": 2,
       "version_minor": 0
      },
      "text/plain": [
       "Widget(value='<iframe src=\"http://localhost:51129/index.html?ui=P_0x1319774c550_203&reconnect=auto\" class=\"pyv…"
      ]
     },
     "metadata": {},
     "output_type": "display_data"
    }
   ],
   "source": [
    "sample_name = 'snowstonemountain'\n",
    "sample = torch.load(f'{sample_name}.pt')\n",
    "sample = torch.rot90(sample, k=2, dims=(2, 4))\n",
    "with torch.no_grad():\n",
    "    style_indices, struct_indices = encode_and_quantize(fqgan, sample)\n",
    "reconstructed, _ = decode_from_indices(style_indices, struct_indices, fqgan, two_stage=True)\n",
    "\n",
    "camera_elev_offset = -20\n",
    "\n",
    "reconstruct_convert = block_converter.convert_to_original_blocks(reconstructed.squeeze())\n",
    "plotter = visualizer.visualize_chunk(reconstruct_convert, interactive=True, show_axis=False)\n",
    "plotter.camera.elevation += camera_elev_offset\n",
    "frame = plotter.screenshot(transparent_background=True, return_img=True)\n",
    "pil_frame = Image.fromarray(frame)\n",
    "pil_frame.save('tunnel_exp_2_orig.png')\n",
    "plotter.show()\n",
    "\n",
    "\n",
    "tunnel_coords = [(x, y, z) for x in [3, 4] for y in  [0, 1] for z in  [1, 2, 3]]\n",
    "tunnel_coords += [(x, y, z) for x in [4] for y in  [0, 1] for z in  [4]]\n",
    "tunnel_coords += [(x, y, z) for x in [0, 1, 2] for y in  [0, 1] for z in  [3]]\n",
    "# tunnel_coords += [(0, 1, 5), (1, 1, 4), (2, 1, 3)]\n",
    "# tunnel_coords += [(0, 0, 5), (1, 0, 4), (2, 0, 3)]\n",
    "\n",
    "tunnel_floor = [(x, y, z) for x in [3, 4] for y in  [0] for z in  [1, 2, 3, 4]]\n",
    "tunnel_floor += [(x, y, z) for x in [0, 1, 2] for y in  [0] for z in  [3]]\n",
    "# tunnel_coords_2 = [(x, y, z) for x in [2, 3, 4] for y in  [3] for z in  [1]]\n",
    "\n",
    "tunnel_style_val = 1        # 1, 6, 7, 8 all seem to correspond to empty areas, start by leaving as is.\n",
    "tunnel_struct_val = 9     # empty, 95.5% of the time\n",
    "tunnel_floor_struct_val = 5 # floor\n",
    "tunnel_floor_style_val = 6 # grass\n",
    "\n",
    "\n",
    "# swap close corner\n",
    "for coord in tunnel_coords:\n",
    "    struct_indices[0, coord[0], coord[1], coord[2]] = tunnel_struct_val\n",
    "\n",
    "\n",
    "\n",
    "reconstructed, _ = decode_from_indices(style_indices, struct_indices, fqgan, two_stage=True)\n",
    "reconstruct_convert = block_converter.convert_to_original_blocks(reconstructed.squeeze())\n",
    "plotter = visualizer.visualize_chunk(reconstruct_convert, interactive=True, show_axis=False, highlight_latents=None, wireframe_highlight=True)\n",
    "plotter.camera.elevation += camera_elev_offset\n",
    "# plotter.add_light(pv.Light(light_type='headlight', intensity=0.2))\n",
    "frame = plotter.screenshot(transparent_background=True, return_img=True)\n",
    "pil_frame = Image.fromarray(frame)\n",
    "pil_frame.save('tunnel2_cave.png')\n",
    "plotter.show()\n",
    "\n",
    "reconstrcted_xray = np.copy(reconstruct_convert)\n",
    "reconstrcted_xray[:, :, 16:] = 5\n",
    "plotter = visualizer.visualize_chunk(reconstrcted_xray, interactive=True, show_axis=False, highlight_latents=None, wireframe_highlight=True)\n",
    "plotter.camera.elevation += camera_elev_offset\n",
    "frame = plotter.screenshot(transparent_background=True, return_img=True)\n",
    "pil_frame = Image.fromarray(frame)\n",
    "pil_frame.save('tunnel2_cave_xray.png')\n",
    "plotter.show()\n",
    "# swap close corner\n",
    "for coord in tunnel_floor:\n",
    "    struct_indices[0, coord[0], coord[1], coord[2]] = tunnel_floor_struct_val\n",
    "    style_indices[0, coord[0], coord[1], coord[2]] = tunnel_floor_style_val\n",
    "\n",
    "\n",
    "\n",
    "\n",
    "\n",
    "reconstructed, _ = decode_from_indices(style_indices, struct_indices, fqgan, two_stage=True)\n",
    "reconstruct_convert = block_converter.convert_to_original_blocks(reconstructed.squeeze())\n",
    "plotter = visualizer.visualize_chunk(reconstruct_convert, interactive=True, show_axis=False, highlight_latents=None, wireframe_highlight=True)\n",
    "plotter.camera.elevation += camera_elev_offset\n",
    "frame = plotter.screenshot(transparent_background=True, return_img=True)\n",
    "pil_frame = Image.fromarray(frame)\n",
    "pil_frame.save('tunnel2_floor.png')\n",
    "plotter.show()\n",
    "\n",
    "reconstrcted_xray = np.copy(reconstruct_convert)\n",
    "reconstrcted_xray[:, :, 16:] = 5\n",
    "plotter = visualizer.visualize_chunk(reconstrcted_xray, interactive=True, show_axis=False, highlight_latents=None, wireframe_highlight=True)\n",
    "plotter.camera.elevation += camera_elev_offset\n",
    "frame = plotter.screenshot(transparent_background=True, return_img=True)\n",
    "pil_frame = Image.fromarray(frame)\n",
    "pil_frame.save('tunnel2_floor_xray.png')\n",
    "plotter.show()\n",
    "\n",
    "reconstrcted_xray = np.copy(reconstruct_convert)\n",
    "reconstrcted_xray[:, 8:, :] = 5\n",
    "plotter = visualizer.visualize_chunk(reconstrcted_xray, interactive=True, show_axis=False, highlight_latents=None, wireframe_highlight=True)\n",
    "plotter.camera.elevation += camera_elev_offset\n",
    "frame = plotter.screenshot(transparent_background=True, return_img=True)\n",
    "pil_frame = Image.fromarray(frame)\n",
    "# pil_frame.save('tunnel2_firstleg.png')\n",
    "plotter.show()\n",
    "\n",
    "reconstrcted_xray = np.copy(reconstruct_convert)\n",
    "reconstrcted_xray[:, :, 16:] = 5\n",
    "reconstrcted_xray[:, 8:, :] = 5\n",
    "plotter = visualizer.visualize_chunk(reconstrcted_xray, interactive=True, show_axis=False, highlight_latents=None, wireframe_highlight=True)\n",
    "plotter.camera.elevation += camera_elev_offset\n",
    "frame = plotter.screenshot(transparent_background=True, return_img=True)\n",
    "pil_frame = Image.fromarray(frame)\n",
    "# pil_frame.save('tunnel2_firstleg.png')\n",
    "plotter.show()\n",
    "\n",
    "\n"
   ]
  },
  {
   "cell_type": "markdown",
   "metadata": {},
   "source": [
    "# River Experiments"
   ]
  },
  {
   "cell_type": "markdown",
   "metadata": {},
   "source": [
    "## river 1"
   ]
  },
  {
   "cell_type": "code",
   "execution_count": 11,
   "metadata": {},
   "outputs": [
    {
     "name": "stderr",
     "output_type": "stream",
     "text": [
      "c:\\Users\\TimBits\\miniconda3\\envs\\py39\\lib\\site-packages\\torch\\nn\\functional.py:5476: UserWarning: 1Torch was not compiled with flash attention. (Triggered internally at C:\\cb\\pytorch_1000000000000\\work\\aten\\src\\ATen\\native\\transformers\\cuda\\sdp_utils.cpp:263.)\n",
      "  attn_output = scaled_dot_product_attention(q, k, v, attn_mask, dropout_p, is_causal)\n"
     ]
    },
    {
     "data": {
      "application/vnd.jupyter.widget-view+json": {
       "model_id": "5b5fe56502d34eef9553d67e0eb7b8b9",
       "version_major": 2,
       "version_minor": 0
      },
      "text/plain": [
       "Widget(value='<iframe src=\"http://localhost:54701/index.html?ui=P_0x15297b87be0_0&reconnect=auto\" class=\"pyvis…"
      ]
     },
     "metadata": {},
     "output_type": "display_data"
    },
    {
     "data": {
      "application/vnd.jupyter.widget-view+json": {
       "model_id": "e6d4e3f0cce248998ac48cc66dcefd7a",
       "version_major": 2,
       "version_minor": 0
      },
      "text/plain": [
       "Widget(value='<iframe src=\"http://localhost:54701/index.html?ui=P_0x1530421cd60_1&reconnect=auto\" class=\"pyvis…"
      ]
     },
     "metadata": {},
     "output_type": "display_data"
    },
    {
     "data": {
      "application/vnd.jupyter.widget-view+json": {
       "model_id": "da5e57c5faeb4238a57b0ad7996955dc",
       "version_major": 2,
       "version_minor": 0
      },
      "text/plain": [
       "Widget(value='<iframe src=\"http://localhost:54701/index.html?ui=P_0x152fc91e5e0_2&reconnect=auto\" class=\"pyvis…"
      ]
     },
     "metadata": {},
     "output_type": "display_data"
    }
   ],
   "source": [
    "sample_name = 'deserthill2'\n",
    "sample = torch.load(f'{sample_name}.pt')\n",
    "# sample = torch.rot90(sample, k=1, dims=(2, 4))\n",
    "with torch.no_grad():\n",
    "    style_indices, struct_indices = encode_and_quantize(fqgan, sample)\n",
    "reconstructed, _ = decode_from_indices(style_indices, struct_indices, fqgan, two_stage=True)\n",
    "reconstruct_convert = block_converter.convert_to_original_blocks(reconstructed.squeeze())\n",
    "plotter = visualizer.visualize_chunk(reconstruct_convert, interactive=True, show_axis=False)\n",
    "frame = plotter.screenshot(transparent_background=True, return_img=True)\n",
    "pil_frame = Image.fromarray(frame)\n",
    "pil_frame.save('river_exp_1_orig.png')\n",
    "plotter.show()\n",
    "\n",
    "\n",
    "river_coords = [(x, y, z) for x in [0, 1, 2, 3] for y in  [2, 3] for z in  [5]]\n",
    "river_coords += [(x, y, z) for x in [3] for y in  [2, 3] for z in  [2, 3, 4, 5]]\n",
    "river_coords += [(x, y, z) for x in [4, 5] for y in  [2, 3] for z in  [1]]\n",
    "\n",
    "wide_river_coords = [(x, y, z) for x in [1, 2, 3] for y in  [2, 3] for z in  range(6)]\n",
    "wide_river_coords += [(x, y, z) for x in [0] for y in  [2, 3] for z in  [3, 4, 5]]\n",
    "wide_river_coords += [(x, y, z) for x in [4, 5] for y in  [2, 3] for z in  [0, 1]]\n",
    "\n",
    "river_style_val = 2        # water style code\n",
    "river_struct_val = 0     # empty, 95.5% of the time\n",
    "\n",
    "riverbed_style_val = 15 \n",
    "\n",
    "# swap close corner\n",
    "for coord in river_coords:\n",
    "    style_indices[0, coord[0], coord[1], coord[2]] = river_style_val\n",
    "\n",
    "reconstructed, _ = decode_from_indices(style_indices, struct_indices, fqgan, two_stage=True)\n",
    "reconstruct_convert = block_converter.convert_to_original_blocks(reconstructed.squeeze())\n",
    "plotter = visualizer.visualize_chunk(reconstruct_convert, interactive=True, show_axis=False, highlight_latents=None, wireframe_highlight=True)\n",
    "# plotter.camera.elevation += camera_elev_offset\n",
    "# plotter.add_light(pv.Light(light_type='headlight', intensity=0.2))\n",
    "frame = plotter.screenshot(transparent_background=True, return_img=True)\n",
    "pil_frame = Image.fromarray(frame)\n",
    "pil_frame.save('river_exp_1_river.png')\n",
    "plotter.show()\n",
    "\n",
    "# swap close corner\n",
    "for coord in wide_river_coords:\n",
    "    style_indices[0, coord[0], coord[1], coord[2]] = river_style_val\n",
    "\n",
    "reconstructed, _ = decode_from_indices(style_indices, struct_indices, fqgan, two_stage=True)\n",
    "reconstruct_convert = block_converter.convert_to_original_blocks(reconstructed.squeeze())\n",
    "plotter = visualizer.visualize_chunk(reconstruct_convert, interactive=True, show_axis=False, highlight_latents=None, wireframe_highlight=True)\n",
    "# plotter.camera.elevation += camera_elev_offset\n",
    "# plotter.add_light(pv.Light(light_type='headlight', intensity=0.2))\n",
    "frame = plotter.screenshot(transparent_background=True, return_img=True)\n",
    "pil_frame = Image.fromarray(frame)\n",
    "pil_frame.save('river_exp_1_wideriver.png')\n",
    "plotter.show()"
   ]
  },
  {
   "cell_type": "markdown",
   "metadata": {},
   "source": [
    "## River 2"
   ]
  },
  {
   "cell_type": "code",
   "execution_count": 60,
   "metadata": {},
   "outputs": [
    {
     "data": {
      "application/vnd.jupyter.widget-view+json": {
       "model_id": "4b0200bff16e49d6a7f44c013f28fbf0",
       "version_major": 2,
       "version_minor": 0
      },
      "text/plain": [
       "Widget(value='<iframe src=\"http://localhost:54701/index.html?ui=P_0x1535ecd8e20_127&reconnect=auto\" class=\"pyv…"
      ]
     },
     "metadata": {},
     "output_type": "display_data"
    },
    {
     "data": {
      "application/vnd.jupyter.widget-view+json": {
       "model_id": "cfe641b87bbc49c8b0322012bb12ab50",
       "version_major": 2,
       "version_minor": 0
      },
      "text/plain": [
       "Widget(value='<iframe src=\"http://localhost:54701/index.html?ui=P_0x15532e663a0_128&reconnect=auto\" class=\"pyv…"
      ]
     },
     "metadata": {},
     "output_type": "display_data"
    },
    {
     "data": {
      "application/vnd.jupyter.widget-view+json": {
       "model_id": "9e097814e6d549e98cd0ca8ce5b5432e",
       "version_major": 2,
       "version_minor": 0
      },
      "text/plain": [
       "Widget(value='<iframe src=\"http://localhost:54701/index.html?ui=P_0x15393f86bb0_129&reconnect=auto\" class=\"pyv…"
      ]
     },
     "metadata": {},
     "output_type": "display_data"
    },
    {
     "data": {
      "application/vnd.jupyter.widget-view+json": {
       "model_id": "80f419824cda4546bb201d1d9bf3e763",
       "version_major": 2,
       "version_minor": 0
      },
      "text/plain": [
       "Widget(value='<iframe src=\"http://localhost:54701/index.html?ui=P_0x153826bc700_130&reconnect=auto\" class=\"pyv…"
      ]
     },
     "metadata": {},
     "output_type": "display_data"
    }
   ],
   "source": [
    "sample_name = 'crazytreebowl'\n",
    "sample = torch.load(f'{sample_name}.pt')\n",
    "sample = torch.rot90(sample, k=3, dims=(2, 4))\n",
    "with torch.no_grad():\n",
    "    style_indices, struct_indices = encode_and_quantize(fqgan, sample)\n",
    "reconstructed, _ = decode_from_indices(style_indices, struct_indices, fqgan, two_stage=True)\n",
    "reconstruct_convert = block_converter.convert_to_original_blocks(reconstructed.squeeze())\n",
    "plotter = visualizer.visualize_chunk(reconstruct_convert, interactive=True, show_axis=False)\n",
    "frame = plotter.screenshot(transparent_background=True, return_img=True)\n",
    "pil_frame = Image.fromarray(frame)\n",
    "pil_frame.save('river_exp_2_orig.png')\n",
    "plotter.show()\n",
    "\n",
    "\n",
    "waterfall_coords = [(x, y, z) for x in [4] for y in  [2, 3, 4, 5] for z in  [3]]\n",
    "waterfall_coords += [(x, y, z) for x in [4, 5] for y in  [5] for z in  [3]]\n",
    "# waterfall += [(x, y, z) for x in [4, 5] for y in  [2, 3] for z in  [1]]\n",
    "\n",
    "waterfall_stream_coords = [(x, y, z) for x in [3] for y in  [2] for z in  [3, 4]]\n",
    "waterfall_stream_coords += [(2, 2, 4)]\n",
    "# wide_river_coords += [(x, y, z) for x in [4, 5] for y in  [2, 3] for z in  [0, 1]]\n",
    "\n",
    "# waterfall_ravine_coords = [(x, y, z) for x in [0, 1] for y in  [1, 2] for z in  [3]]\n",
    "# waterfall_ravine_coords += [(x, y, z) for x in [1, 2] for y in  [1, 2] for z in  [4]]\n",
    "# diagonal ravine\n",
    "waterfall_ravine_coords = [(2, 1, 5), (2, 2, 5)]\n",
    "waterfall_ravine_coords += [(1, 1, 4), (1, 2, 4)]\n",
    "waterfall_ravine_coords += [(0, 1, 3), (0, 2, 3)]\n",
    "\n",
    "# fill in cave\n",
    "waterfall_ravine_coords += [(2, 0, 5), (1, 0, 5)]\n",
    "waterfall_ravine_coords += [(3, 1, 5)]\n",
    "waterfall_ravine_coords += [(4, 1, 5)]\n",
    "waterfall_ravine_coords += [(4, 0, 5), (5, 0, 5)]\n",
    "\n",
    "\n",
    "\n",
    "river_style_val = 2        # water style code\n",
    "waterfall_struct_val = 4     # empty, 95.5% of the time\n",
    "\n",
    "ravine_struct_val = 28 \n",
    "\n",
    "\n",
    "# swap close corner\n",
    "# for coord in waterfall_top_coords:\n",
    "#     style_indices[0, coord[0], coord[1], coord[2]] = river_style_val\n",
    "    # struct_indices[0, coord[0], coord[1], coord[2]] = waterfall_struct_val\n",
    "\n",
    "for coord in waterfall_coords:\n",
    "    style_indices[0, coord[0], coord[1], coord[2]] = river_style_val\n",
    "    struct_indices[0, coord[0], coord[1], coord[2]] = waterfall_struct_val\n",
    "\n",
    "reconstructed, _ = decode_from_indices(style_indices, struct_indices, fqgan, two_stage=True)\n",
    "reconstruct_convert = block_converter.convert_to_original_blocks(reconstructed.squeeze())\n",
    "plotter = visualizer.visualize_chunk(reconstruct_convert, interactive=True, show_axis=False, highlight_latents=None, wireframe_highlight=True)\n",
    "# plotter.camera.elevation += camera_elev_offset\n",
    "# plotter.add_light(pv.Light(light_type='headlight', intensity=0.2))\n",
    "frame = plotter.screenshot(transparent_background=True, return_img=True)\n",
    "pil_frame = Image.fromarray(frame)\n",
    "pil_frame.save('river_exp_2_waterfall.png')\n",
    "plotter.show()\n",
    "\n",
    "\n",
    "for coord in waterfall_stream_coords:\n",
    "    style_indices[0, coord[0], coord[1], coord[2]] = river_style_val\n",
    "    # struct_indices[0, coord[0], coord[1], coord[2]] = waterfall_struct_val\n",
    "\n",
    "reconstructed, _ = decode_from_indices(style_indices, struct_indices, fqgan, two_stage=True)\n",
    "reconstruct_convert = block_converter.convert_to_original_blocks(reconstructed.squeeze())\n",
    "plotter = visualizer.visualize_chunk(reconstruct_convert, interactive=True, show_axis=False, highlight_latents=None, wireframe_highlight=True)\n",
    "# plotter.camera.elevation += camera_elev_offset\n",
    "# plotter.add_light(pv.Light(light_type='headlight', intensity=0.2))\n",
    "frame = plotter.screenshot(transparent_background=True, return_img=True)\n",
    "pil_frame = Image.fromarray(frame)\n",
    "pil_frame.save('river_exp_2_stream.png')\n",
    "plotter.show()\n",
    "\n",
    "for coord in waterfall_ravine_coords:\n",
    "    style_indices[0, coord[0], coord[1], coord[2]] = river_style_val\n",
    "    struct_indices[0, coord[0], coord[1], coord[2]] = ravine_struct_val\n",
    "\n",
    "reconstructed, _ = decode_from_indices(style_indices, struct_indices, fqgan, two_stage=True)\n",
    "reconstruct_convert = block_converter.convert_to_original_blocks(reconstructed.squeeze())\n",
    "plotter = visualizer.visualize_chunk(reconstruct_convert, interactive=True, show_axis=False, highlight_latents=None, wireframe_highlight=True)\n",
    "# plotter.camera.elevation += camera_elev_offset\n",
    "# plotter.add_light(pv.Light(light_type='headlight', intensity=0.2))\n",
    "frame = plotter.screenshot(transparent_background=True, return_img=True)\n",
    "pil_frame = Image.fromarray(frame)\n",
    "pil_frame.save('river_exp_2_ravine.png')\n",
    "plotter.show()\n"
   ]
  },
  {
   "cell_type": "code",
   "execution_count": 10,
   "metadata": {},
   "outputs": [
    {
     "ename": "NameError",
     "evalue": "name 'reconstruct_convert' is not defined",
     "output_type": "error",
     "traceback": [
      "\u001b[1;31m---------------------------------------------------------------------------\u001b[0m",
      "\u001b[1;31mNameError\u001b[0m                                 Traceback (most recent call last)",
      "Cell \u001b[1;32mIn[10], line 16\u001b[0m\n\u001b[0;32m     12\u001b[0m     \u001b[38;5;28;01mreturn\u001b[39;00m array\n\u001b[0;32m     15\u001b[0m val \u001b[38;5;241m=\u001b[39m \u001b[38;5;241m166\u001b[39m\n\u001b[1;32m---> 16\u001b[0m area_viz \u001b[38;5;241m=\u001b[39m np\u001b[38;5;241m.\u001b[39mones_like(\u001b[43mreconstruct_convert\u001b[49m)\n\u001b[0;32m     17\u001b[0m area_viz \u001b[38;5;241m=\u001b[39m area_viz \u001b[38;5;241m*\u001b[39m \u001b[38;5;241m5\u001b[39m\n\u001b[0;32m     18\u001b[0m area_viz \u001b[38;5;241m=\u001b[39m turn_latent_coords_into_val(area_viz, latent_coords\u001b[38;5;241m=\u001b[39mwaterfall_coords, val\u001b[38;5;241m=\u001b[39mval)\n",
      "\u001b[1;31mNameError\u001b[0m: name 'reconstruct_convert' is not defined"
     ]
    }
   ],
   "source": [
    "def turn_latent_coords_into_val(array, latent_coords, val=999):\n",
    "    for coord in latent_coords:\n",
    "        x, y, z = coord\n",
    "        x_min = x * 4\n",
    "        x_max = x_min + 4\n",
    "        y_min = y * 4\n",
    "        y_max = y_min + 4\n",
    "        z_min = z * 4\n",
    "        z_max = z_min + 4\n",
    "        array[x_min:x_max, y_min:y_max, z_min:z_max] = val\n",
    "\n",
    "    return array\n",
    "    \n",
    "\n",
    "val = 166\n",
    "area_viz = np.ones_like(reconstruct_convert)\n",
    "area_viz = area_viz * 5\n",
    "area_viz = turn_latent_coords_into_val(area_viz, latent_coords=waterfall_coords, val=val)\n",
    "plotter = visualizer.visualize_chunk(area_viz, interactive=True, show_axis=False, highlight_latents=None, wireframe_highlight=True)\n",
    "plotter.show()\n",
    "area_viz = turn_latent_coords_into_val(area_viz, latent_coords=waterfall_stream_coords, val=val)\n",
    "plotter = visualizer.visualize_chunk(area_viz, interactive=True, show_axis=False, highlight_latents=None, wireframe_highlight=True)\n",
    "plotter.show()\n",
    "area_viz = turn_latent_coords_into_val(area_viz, latent_coords=waterfall_ravine_coords, val=val)\n",
    "plotter = visualizer.visualize_chunk(area_viz, interactive=True, show_axis=True, highlight_latents=None, wireframe_highlight=True)\n",
    "frame = plotter.screenshot(transparent_background=True, return_img=True)\n",
    "pil_frame = Image.fromarray(frame)\n",
    "pil_frame.save('river_exp_2_latentareas2.png')\n",
    "plotter.show()\n"
   ]
  },
  {
   "cell_type": "markdown",
   "metadata": {},
   "source": [
    "# Floating Island Experiments"
   ]
  },
  {
   "cell_type": "markdown",
   "metadata": {},
   "source": [
    "## floating island 1"
   ]
  },
  {
   "cell_type": "code",
   "execution_count": null,
   "metadata": {},
   "outputs": [
    {
     "data": {
      "application/vnd.jupyter.widget-view+json": {
       "model_id": "ef661f55168e4e7a952f684596c14de6",
       "version_major": 2,
       "version_minor": 0
      },
      "text/plain": [
       "Widget(value='<iframe src=\"http://localhost:54701/index.html?ui=P_0x15579a69700_248&reconnect=auto\" class=\"pyv…"
      ]
     },
     "metadata": {},
     "output_type": "display_data"
    },
    {
     "data": {
      "application/vnd.jupyter.widget-view+json": {
       "model_id": "62daef05ecfe4521abc4f1b00051bba2",
       "version_major": 2,
       "version_minor": 0
      },
      "text/plain": [
       "Widget(value='<iframe src=\"http://localhost:54701/index.html?ui=P_0x155d08835e0_249&reconnect=auto\" class=\"pyv…"
      ]
     },
     "metadata": {},
     "output_type": "display_data"
    },
    {
     "data": {
      "application/vnd.jupyter.widget-view+json": {
       "model_id": "4d7ff5e5ad774e1782b9e635d2bc72e4",
       "version_major": 2,
       "version_minor": 0
      },
      "text/plain": [
       "Widget(value='<iframe src=\"http://localhost:54701/index.html?ui=P_0x1560c4c1f40_250&reconnect=auto\" class=\"pyv…"
      ]
     },
     "metadata": {},
     "output_type": "display_data"
    },
    {
     "data": {
      "application/vnd.jupyter.widget-view+json": {
       "model_id": "475989b3a47b4bd198edca21bbb43e40",
       "version_major": 2,
       "version_minor": 0
      },
      "text/plain": [
       "Widget(value='<iframe src=\"http://localhost:54701/index.html?ui=P_0x156108a5b50_251&reconnect=auto\" class=\"pyv…"
      ]
     },
     "metadata": {},
     "output_type": "display_data"
    }
   ],
   "source": [
    "sample_name = 'tallmountain'\n",
    "sample = torch.load(f'{sample_name}.pt')\n",
    "sample = torch.rot90(sample, k=2, dims=(2, 4))\n",
    "\n",
    "camera_elev_offset = -20\n",
    "\n",
    "with torch.no_grad():\n",
    "    style_indices, struct_indices = encode_and_quantize(fqgan, sample)\n",
    "reconstructed, _ = decode_from_indices(style_indices, struct_indices, fqgan, two_stage=True)\n",
    "reconstruct_convert = block_converter.convert_to_original_blocks(reconstructed.squeeze())\n",
    "plotter = visualizer.visualize_chunk(reconstruct_convert, interactive=True, show_axis=False)\n",
    "plotter.camera.elevation += camera_elev_offset\n",
    "frame = plotter.screenshot(transparent_background=True, return_img=True)\n",
    "pil_frame = Image.fromarray(frame)\n",
    "pil_frame.save('floating_island1_orig.png')\n",
    "plotter.show()\n",
    "\n",
    "# top layer\n",
    "\n",
    "island_coords = [(1, 3, 1), (1, 4, 1)]\n",
    "# island_coords = [(1, 2, 1), (1, 3, 1)]\n",
    "# bottom layer\n",
    "island_bottom = [(x, y, z) for x in [0, 1, 2] for y in  [4] for z in  [0, 1, 2]]\n",
    "island_bottom.remove((1, 4, 1))\n",
    "# island_bottom = [(x, y, z) for x in [0, 1, 2] for y in  [3] for z in  [0, 1, 2]]\n",
    "# island_bottom.remove((1, 3, 1))\n",
    "\n",
    "island_tree = [(x, y, z) for x in [0] for y in  [4, 5] for z in  [0]]\n",
    "# island_tree.remove((1, 4, 1))\n",
    "# waterfall_coords += [(x, y, z) for x in [4, 5] for y in  [5] for z in  [3]]\n",
    "\n",
    "# waterfall_stream_coords = [(x, y, z) for x in [3] for y in  [2] for z in  [3, 4]]\n",
    "# waterfall_stream_coords += [(2, 2, 4)]\n",
    "\n",
    "\n",
    "island_style_val = 14        # water style code\n",
    "island_struct_val = 28     # empty, 95.5% of the time\n",
    "\n",
    "island_bottom_struct_val = 14\n",
    "island_bottom_style_val = 13\n",
    "\n",
    "\n",
    "island_tree_struct_val = 19\n",
    "island_tree_style_val = 7\n",
    "# 19 decent but blocky\n",
    "# ravine_struct_val =  \n",
    "\n",
    "\n",
    "\n",
    "\n",
    "for coord in island_coords:\n",
    "    style_indices[0, coord[0], coord[1], coord[2]] = island_style_val\n",
    "    struct_indices[0, coord[0], coord[1], coord[2]] = island_struct_val\n",
    "\n",
    "reconstructed, _ = decode_from_indices(style_indices, struct_indices, fqgan, two_stage=True)\n",
    "reconstruct_convert = block_converter.convert_to_original_blocks(reconstructed.squeeze())\n",
    "plotter = visualizer.visualize_chunk(reconstruct_convert, interactive=True, show_axis=False, highlight_latents=None, wireframe_highlight=True)\n",
    "plotter.camera.elevation += camera_elev_offset\n",
    "# plotter.add_light(pv.Light(light_type='headlight', intensity=0.2))\n",
    "frame = plotter.screenshot(transparent_background=True, return_img=True)\n",
    "pil_frame = Image.fromarray(frame)\n",
    "pil_frame.save('floating_island1_core.png')\n",
    "plotter.show()\n",
    "\n",
    "for coord in island_bottom:\n",
    "    style_indices[0, coord[0], coord[1], coord[2]] = island_bottom_style_val\n",
    "    struct_indices[0, coord[0], coord[1], coord[2]] = island_bottom_struct_val\n",
    "\n",
    "reconstructed, _ = decode_from_indices(style_indices, struct_indices, fqgan, two_stage=True)\n",
    "reconstruct_convert = block_converter.convert_to_original_blocks(reconstructed.squeeze())\n",
    "plotter = visualizer.visualize_chunk(reconstruct_convert, interactive=True, show_axis=False, highlight_latents=None, wireframe_highlight=True)\n",
    "plotter.camera.elevation += camera_elev_offset\n",
    "# plotter.add_light(pv.Light(light_type='headlight', intensity=0.2))\n",
    "frame = plotter.screenshot(transparent_background=True, return_img=True)\n",
    "pil_frame = Image.fromarray(frame)\n",
    "pil_frame.save('floating_island1_bottom.png')\n",
    "plotter.show()\n",
    "\n",
    "for coord in island_tree:\n",
    "    style_indices[0, coord[0], coord[1], coord[2]] = island_tree_style_val\n",
    "    struct_indices[0, coord[0], coord[1], coord[2]] = island_tree_struct_val\n",
    "\n",
    "reconstructed, _ = decode_from_indices(style_indices, struct_indices, fqgan, two_stage=True)\n",
    "reconstruct_convert = block_converter.convert_to_original_blocks(reconstructed.squeeze())\n",
    "plotter = visualizer.visualize_chunk(reconstruct_convert, interactive=True, show_axis=False, highlight_latents=None, wireframe_highlight=True)\n",
    "plotter.camera.elevation += camera_elev_offset\n",
    "# plotter.add_light(pv.Light(light_type='headlight', intensity=0.2))\n",
    "frame = plotter.screenshot(transparent_background=True, return_img=True)\n",
    "pil_frame = Image.fromarray(frame)\n",
    "pil_frame.save('floating_island1_tree.png')\n",
    "plotter.show()\n",
    "\n"
   ]
  },
  {
   "cell_type": "markdown",
   "metadata": {},
   "source": [
    "## Floating island 2"
   ]
  },
  {
   "cell_type": "code",
   "execution_count": 106,
   "metadata": {},
   "outputs": [
    {
     "data": {
      "application/vnd.jupyter.widget-view+json": {
       "model_id": "7a6f1b088d604cd38907ed0608233252",
       "version_major": 2,
       "version_minor": 0
      },
      "text/plain": [
       "Widget(value='<iframe src=\"http://localhost:54701/index.html?ui=P_0x1559e493490_244&reconnect=auto\" class=\"pyv…"
      ]
     },
     "metadata": {},
     "output_type": "display_data"
    },
    {
     "data": {
      "application/vnd.jupyter.widget-view+json": {
       "model_id": "a190ea9d4c8a410eac2985888c33f3e0",
       "version_major": 2,
       "version_minor": 0
      },
      "text/plain": [
       "Widget(value='<iframe src=\"http://localhost:54701/index.html?ui=P_0x155d0883d00_245&reconnect=auto\" class=\"pyv…"
      ]
     },
     "metadata": {},
     "output_type": "display_data"
    },
    {
     "data": {
      "application/vnd.jupyter.widget-view+json": {
       "model_id": "a4ab93011b214b96a1cef8feb1f37875",
       "version_major": 2,
       "version_minor": 0
      },
      "text/plain": [
       "Widget(value='<iframe src=\"http://localhost:54701/index.html?ui=P_0x155f46f7b80_246&reconnect=auto\" class=\"pyv…"
      ]
     },
     "metadata": {},
     "output_type": "display_data"
    },
    {
     "data": {
      "application/vnd.jupyter.widget-view+json": {
       "model_id": "29b65b7bc1174e67b880fb44d26ec53f",
       "version_major": 2,
       "version_minor": 0
      },
      "text/plain": [
       "Widget(value='<iframe src=\"http://localhost:54701/index.html?ui=P_0x15600a7c640_247&reconnect=auto\" class=\"pyv…"
      ]
     },
     "metadata": {},
     "output_type": "display_data"
    }
   ],
   "source": [
    "sample_name = 'tallmountain'\n",
    "sample = torch.load(f'{sample_name}.pt')\n",
    "sample = torch.rot90(sample, k=2, dims=(2, 4))\n",
    "\n",
    "camera_elev_offset = -20\n",
    "\n",
    "with torch.no_grad():\n",
    "    style_indices, struct_indices = encode_and_quantize(fqgan, sample)\n",
    "reconstructed, _ = decode_from_indices(style_indices, struct_indices, fqgan, two_stage=True)\n",
    "reconstruct_convert = block_converter.convert_to_original_blocks(reconstructed.squeeze())\n",
    "plotter = visualizer.visualize_chunk(reconstruct_convert, interactive=True, show_axis=False)\n",
    "plotter.camera.elevation += camera_elev_offset\n",
    "frame = plotter.screenshot(transparent_background=True, return_img=True)\n",
    "pil_frame = Image.fromarray(frame)\n",
    "pil_frame.save('floating_island2_orig.png')\n",
    "plotter.show()\n",
    "\n",
    "# top layer\n",
    "\n",
    "island_coords = [(1, 3, 1), (1, 4, 1)]\n",
    "# island_coords = [(1, 2, 1), (1, 3, 1)]\n",
    "# bottom layer\n",
    "island_bottom = [(x, y, z) for x in [0, 1, 2] for y in  [4] for z in  [0, 1, 2]]\n",
    "island_bottom.remove((1, 4, 1))\n",
    "# island_bottom = [(x, y, z) for x in [0, 1, 2] for y in  [3] for z in  [0, 1, 2]]\n",
    "# island_bottom.remove((1, 3, 1))\n",
    "\n",
    "island_tree = [(x, y, z) for x in [0] for y in  [4, 5] for z in  [0]]\n",
    "# island_tree.remove((1, 4, 1))\n",
    "# waterfall_coords += [(x, y, z) for x in [4, 5] for y in  [5] for z in  [3]]\n",
    "\n",
    "# waterfall_stream_coords = [(x, y, z) for x in [3] for y in  [2] for z in  [3, 4]]\n",
    "# waterfall_stream_coords += [(2, 2, 4)]\n",
    "\n",
    "\n",
    "island_style_val = 4        # water style code\n",
    "island_struct_val = 28     # empty, 95.5% of the time\n",
    "\n",
    "island_bottom_struct_val = 14\n",
    "island_bottom_style_val = 4\n",
    "\n",
    "\n",
    "island_tree_struct_val = 19\n",
    "island_tree_style_val = 7\n",
    "# 19 decent but blocky\n",
    "# ravine_struct_val =  \n",
    "\n",
    "\n",
    "\n",
    "\n",
    "for coord in island_coords:\n",
    "    style_indices[0, coord[0], coord[1], coord[2]] = island_style_val\n",
    "    struct_indices[0, coord[0], coord[1], coord[2]] = island_struct_val\n",
    "\n",
    "reconstructed, _ = decode_from_indices(style_indices, struct_indices, fqgan, two_stage=True)\n",
    "reconstruct_convert = block_converter.convert_to_original_blocks(reconstructed.squeeze())\n",
    "plotter = visualizer.visualize_chunk(reconstruct_convert, interactive=True, show_axis=False, highlight_latents=None, wireframe_highlight=True)\n",
    "plotter.camera.elevation += camera_elev_offset\n",
    "# plotter.add_light(pv.Light(light_type='headlight', intensity=0.2))\n",
    "frame = plotter.screenshot(transparent_background=True, return_img=True)\n",
    "pil_frame = Image.fromarray(frame)\n",
    "pil_frame.save('floating_island2_core.png')\n",
    "plotter.show()\n",
    "\n",
    "for coord in island_bottom:\n",
    "    style_indices[0, coord[0], coord[1], coord[2]] = island_bottom_style_val\n",
    "    struct_indices[0, coord[0], coord[1], coord[2]] = island_bottom_struct_val\n",
    "\n",
    "reconstructed, _ = decode_from_indices(style_indices, struct_indices, fqgan, two_stage=True)\n",
    "reconstruct_convert = block_converter.convert_to_original_blocks(reconstructed.squeeze())\n",
    "plotter = visualizer.visualize_chunk(reconstruct_convert, interactive=True, show_axis=False, highlight_latents=None, wireframe_highlight=True)\n",
    "plotter.camera.elevation += camera_elev_offset\n",
    "# plotter.add_light(pv.Light(light_type='headlight', intensity=0.2))\n",
    "frame = plotter.screenshot(transparent_background=True, return_img=True)\n",
    "pil_frame = Image.fromarray(frame)\n",
    "pil_frame.save('floating_island2_bottom.png')\n",
    "plotter.show()\n",
    "\n",
    "for coord in island_tree:\n",
    "    style_indices[0, coord[0], coord[1], coord[2]] = island_tree_style_val\n",
    "    struct_indices[0, coord[0], coord[1], coord[2]] = island_tree_struct_val\n",
    "\n",
    "reconstructed, _ = decode_from_indices(style_indices, struct_indices, fqgan, two_stage=True)\n",
    "reconstruct_convert = block_converter.convert_to_original_blocks(reconstructed.squeeze())\n",
    "plotter = visualizer.visualize_chunk(reconstruct_convert, interactive=True, show_axis=False, highlight_latents=None, wireframe_highlight=True)\n",
    "plotter.camera.elevation += camera_elev_offset\n",
    "# plotter.add_light(pv.Light(light_type='headlight', intensity=0.2))\n",
    "frame = plotter.screenshot(transparent_background=True, return_img=True)\n",
    "pil_frame = Image.fromarray(frame)\n",
    "pil_frame.save('floating_island2_tree.png')\n",
    "plotter.show()\n"
   ]
  },
  {
   "cell_type": "code",
   "execution_count": 26,
   "metadata": {},
   "outputs": [],
   "source": [
    "sample_name = 'cutebeach2'\n",
    "sample = torch.load(f'{sample_name}.pt')\n",
    "sample = torch.rot90(sample, k=2, dims=(2, 4))\n",
    "\n",
    "# camera_elev_offset = -20\n",
    "\n",
    "with torch.no_grad():\n",
    "    style_indices, struct_indices = encode_and_quantize(fqgan, sample)\n"
   ]
  },
  {
   "cell_type": "code",
   "execution_count": 27,
   "metadata": {},
   "outputs": [
    {
     "name": "stdout",
     "output_type": "stream",
     "text": [
      "unique style codes: (tensor([ 1,  2,  3,  4,  5,  6,  7,  8, 10, 11, 12, 13, 14, 15]), tensor([23, 32,  3, 11,  4, 62,  1, 16,  3,  6,  5,  5, 32, 13]))\n",
      "number of unique style codes: 14\n",
      "unique struct codes: (tensor([ 0,  1,  2,  3,  4,  5,  6,  8,  9, 10, 11, 12, 14, 15, 18, 22, 23, 24,\n",
      "        25, 26, 27, 28, 29, 30]), tensor([ 3,  5, 10, 28,  1,  1, 11,  4,  7,  1, 15,  7,  1, 26,  7, 12,  5, 13,\n",
      "         6,  3,  4, 12, 20, 14]))\n",
      "number of unique style codes: 24\n"
     ]
    }
   ],
   "source": [
    "print(f'unique style codes: {torch.unique(style_indices, return_counts=True)}')\n",
    "print(f'number of unique style codes: {len(torch.unique(style_indices))}')\n",
    "print(f'unique struct codes: {torch.unique(struct_indices, return_counts=True)}')\n",
    "print(f'number of unique style codes: {len(torch.unique(struct_indices))}')\n"
   ]
  },
  {
   "cell_type": "markdown",
   "metadata": {},
   "source": [
    "# Generative Experiment"
   ]
  },
  {
   "cell_type": "markdown",
   "metadata": {},
   "source": [
    "## Generative Experiment 1"
   ]
  },
  {
   "cell_type": "code",
   "execution_count": 37,
   "metadata": {},
   "outputs": [
    {
     "data": {
      "application/vnd.jupyter.widget-view+json": {
       "model_id": "76aa0452d1294d498de3d5985b262f16",
       "version_major": 2,
       "version_minor": 0
      },
      "text/plain": [
       "Widget(value='<iframe src=\"http://localhost:59745/index.html?ui=P_0x1450e525580_153&reconnect=auto\" class=\"pyv…"
      ]
     },
     "metadata": {},
     "output_type": "display_data"
    },
    {
     "data": {
      "application/vnd.jupyter.widget-view+json": {
       "model_id": "ce1b0cb7f844487598b4d2b06798fdef",
       "version_major": 2,
       "version_minor": 0
      },
      "text/plain": [
       "Widget(value='<iframe src=\"http://localhost:59745/index.html?ui=P_0x14557ff1f70_158&reconnect=auto\" class=\"pyv…"
      ]
     },
     "metadata": {},
     "output_type": "display_data"
    }
   ],
   "source": [
    "sample_name = 'cutebeach2'\n",
    "sample = torch.load(f'{sample_name}.pt')\n",
    "sample = torch.rot90(sample, k=2, dims=(2, 4))\n",
    "\n",
    "# camera_elev_offset = -20\n",
    "\n",
    "with torch.no_grad():\n",
    "    style_indices, struct_indices = encode_and_quantize(fqgan, sample)\n",
    "reconstructed, binary_recon = decode_from_indices(style_indices, struct_indices, fqgan, two_stage=True)\n",
    "binary_recon = (binary_recon>0.5).float()\n",
    "binary_recon = binary_recon.squeeze()\n",
    "binary_recon[binary_recon == 1] = 217\n",
    "binary_recon[binary_recon == 0] = 5\n",
    "\n",
    "reconstruct_convert = block_converter.convert_to_original_blocks(reconstructed.squeeze())\n",
    "plotter = visualizer.visualize_chunk(reconstruct_convert, interactive=True, show_axis=False)\n",
    "# plotter.camera.elevation += camera_elev_offset\n",
    "frame = plotter.screenshot(transparent_background=True, return_img=True)\n",
    "pil_frame = Image.fromarray(frame)\n",
    "pil_frame.save('generative_1_orig.png')\n",
    "plotter.show()\n",
    "\n",
    "\n",
    "\n",
    "\n",
    "gen_struct_indices = torch.ones_like(struct_indices)\n",
    "gen_style_indices = torch.ones_like(style_indices)\n",
    "\n",
    "# starting val for style latents\n",
    "all_style_val = 14\n",
    "gen_style_indices = gen_style_indices * all_style_val\n",
    "\n",
    "empty_style_val = 6\n",
    "\n",
    "\n",
    "\n",
    "# structure changes\n",
    "solid_coords = [(x, y, z) for x in range(6) for y in [0, 1, 2] for z in  range(6)]\n",
    "slightly_elevated_coords =  [(x, y, z) for x in [2, 3] for y in  [3] for z in  [3, 4, 5]]\n",
    "slightly_elevated_coords +=  [(x, y, z) for x in [4, 5] for y in  [3] for z in  [0, 1]]\n",
    "slightly_elevated_coords +=  [(x, y, z) for x in [4, 5] for y in  [3] for z in  [5]]\n",
    "hill_coords = [(x, y, z) for x in [4, 5] for y in  [3] for z in  [2, 3, 4]]\n",
    "\n",
    "empty_air_coords = [(x, y, z) for x in range(6) for y in [3, 4, 5] for z in  range(6)]\n",
    "# empty_air_coords += [(x, y, z) for x in [0, 1] for y in [3] for z in  range(6)]\n",
    "# empty_air_coords += [(x, y, z) for x in [2, 3] for y in [3] for z in  [0, 1, 2]]\n",
    "\n",
    "# bottom layer water\n",
    "water_style_coords = [(x, y, z) for x in [0] for y in [0] for z in  [0, 1, 2]]\n",
    "water_style_coords += [(1, 0, 0)]\n",
    "\n",
    "# second layer water\n",
    "water_style_coords += [(x, y, z) for x in [0] for y in [1] for z in  range(6)]\n",
    "water_style_coords += [(x, y, z) for x in [1] for y in [1] for z in  [0, 1, 2]]\n",
    "water_style_coords += [(2, 1, 0)]\n",
    "\n",
    "# top layer water\n",
    "water_style_coords += [(x, y, z) for x in [0, 1] for y in [2] for z in  range(6)]\n",
    "water_style_coords += [(x, y, z) for x in [2] for y in [2] for z in  [0, 1, 2]]\n",
    "water_style_coords += [(3, 2, 0)]\n",
    "\n",
    "\n",
    "# first layer sand\n",
    "sand_style_coords = [(x, y, z) for x in [1] for y in [0, 1] for z in [3, 4, 5]]\n",
    "sand_style_coords += [(x, y, z) for x in [2] for y in [0, 1] for z in [1, 2, 3]]\n",
    "sand_style_coords += [(x, y, z) for x in [3] for y in [0, 1] for z in [0, 1]]\n",
    "\n",
    "# second layer sand\n",
    "sand_style_coords += [(x, y, z) for x in [2] for y in [2] for z in [3, 4, 5]]\n",
    "sand_style_coords += [(x, y, z) for x in [3] for y in [2] for z in [1, 2, 3, 4, 5]]\n",
    "sand_style_coords += [(x, y, z) for x in [4, 5] for y in [2] for z in [0]]\n",
    "\n",
    "# bottom layer sand\n",
    "sand_style_coords += [(x, y, z) for x in [0] for y in [0] for z in [4, 5]]\n",
    "\n",
    "# grass style coords\n",
    "grass_style_coords = [(x, y, z) for x in [4, 5] for y in [2, 3] for z in [1, 2, 3, 4, 5]]\n",
    "# grass_style_coords += [(x, y, z) for x in [3] for y in [2] for z in [1, 2, 3, 4, 5]]\n",
    "\n",
    "#\n",
    "\n",
    "solid_struct_val = 29   # solid chunk\n",
    "slightly_elevated_struct_val = 0    # bottom layer filled\n",
    "hill_struct_val = 30\n",
    "\n",
    "water_style_val = 2\n",
    "sand_style_val = 4\n",
    "grass_style_val = 12\n",
    "\n",
    "for coord in empty_air_coords:\n",
    "    gen_style_indices[0, coord[0], coord[1], coord[2]] = empty_style_val\n",
    "\n",
    "reconstructed, binary_recon = decode_from_indices(gen_style_indices, gen_struct_indices, fqgan, two_stage=True)\n",
    "\n",
    "reconstruct_convert = block_converter.convert_to_original_blocks(reconstructed.squeeze())\n",
    "plotter = visualizer.visualize_chunk(reconstruct_convert, interactive=True, show_axis=False)\n",
    "# plotter.camera.elevation += camera_elev_offset\n",
    "frame = plotter.screenshot(transparent_background=True, return_img=True)\n",
    "pil_frame = Image.fromarray(frame)\n",
    "# pil_frame.save('generative_1_sand.png')\n",
    "# plotter.show()\n",
    "\n",
    "for coord in solid_coords:\n",
    "    # gen_style_indices[0, coord[0], coord[1], coord[2]] = island_bottom_style_val\n",
    "    gen_struct_indices[0, coord[0], coord[1], coord[2]] = solid_struct_val\n",
    "\n",
    "for coord in slightly_elevated_coords:\n",
    "    # gen_style_indices[0, coord[0], coord[1], coord[2]] = island_bottom_style_val\n",
    "    gen_struct_indices[0, coord[0], coord[1], coord[2]] = slightly_elevated_struct_val\n",
    "\n",
    "for coord in hill_coords:\n",
    "    # gen_style_indices[0, coord[0], coord[1], coord[2]] = island_bottom_style_val\n",
    "    gen_struct_indices[0, coord[0], coord[1], coord[2]] = hill_struct_val\n",
    "\n",
    "for coord in water_style_coords:\n",
    "    gen_style_indices[0, coord[0], coord[1], coord[2]] = water_style_val\n",
    "\n",
    "reconstructed, binary_recon = decode_from_indices(gen_style_indices, gen_struct_indices, fqgan, two_stage=True)\n",
    "binary_recon = (binary_recon>0.5).float()\n",
    "binary_recon = binary_recon.squeeze()\n",
    "binary_recon[binary_recon == 1] = 217\n",
    "binary_recon[binary_recon == 0] = 5\n",
    "\n",
    "reconstruct_convert = block_converter.convert_to_original_blocks(reconstructed.squeeze())\n",
    "plotter = visualizer.visualize_chunk(reconstruct_convert, interactive=True, show_axis=False)\n",
    "# plotter.camera.elevation += camera_elev_offset\n",
    "frame = plotter.screenshot(transparent_background=True, return_img=True)\n",
    "pil_frame = Image.fromarray(frame)\n",
    "pil_frame.save('generative_1_water.png')\n",
    "# plotter.show()\n",
    "\n",
    "plotter = visualizer.visualize_chunk(binary_recon, interactive=True, show_axis=False, highlight_latents=None, wireframe_highlight=True)\n",
    "# plotter.camera.elevation += camera_elev_offset\n",
    "# plotter.add_light(pv.Light(light_type='headlight', intensity=0.2))\n",
    "frame = plotter.screenshot(transparent_background=True, return_img=True)\n",
    "pil_frame = Image.fromarray(frame)\n",
    "pil_frame.save('generative_1_struct_bin_recon.png')\n",
    "# plotter.show()\n",
    "\n",
    "for coord in sand_style_coords:\n",
    "    gen_style_indices[0, coord[0], coord[1], coord[2]] = sand_style_val\n",
    "\n",
    "reconstructed, binary_recon = decode_from_indices(gen_style_indices, gen_struct_indices, fqgan, two_stage=True)\n",
    "\n",
    "reconstruct_convert = block_converter.convert_to_original_blocks(reconstructed.squeeze())\n",
    "plotter = visualizer.visualize_chunk(reconstruct_convert, interactive=True, show_axis=False)\n",
    "# plotter.camera.elevation += camera_elev_offset\n",
    "frame = plotter.screenshot(transparent_background=True, return_img=True)\n",
    "pil_frame = Image.fromarray(frame)\n",
    "pil_frame.save('generative_1_sand.png')\n",
    "# plotter.show()\n",
    "\n",
    "for coord in grass_style_coords:\n",
    "    gen_style_indices[0, coord[0], coord[1], coord[2]] = grass_style_val\n",
    "\n",
    "reconstructed, binary_recon = decode_from_indices(gen_style_indices, gen_struct_indices, fqgan, two_stage=True)\n",
    "\n",
    "reconstruct_convert = block_converter.convert_to_original_blocks(reconstructed.squeeze())\n",
    "plotter = visualizer.visualize_chunk(reconstruct_convert, interactive=True, show_axis=False)\n",
    "# plotter.camera.elevation += camera_elev_offset\n",
    "frame = plotter.screenshot(transparent_background=True, return_img=True)\n",
    "pil_frame = Image.fromarray(frame)\n",
    "pil_frame.save('generative_1_grass.png')\n",
    "plotter.show()\n",
    "\n",
    "\n",
    "\n",
    "# build solid base\n",
    "# gen_struct_indices[:, :3, :] = 29\n",
    "\n",
    "# add small hill in grassy area\n"
   ]
  },
  {
   "cell_type": "code",
   "execution_count": null,
   "metadata": {},
   "outputs": [],
   "source": [
    "solid_coords = [(x, y, z) for x in range(6) for y in [0, 1, 2] for z in  range(6)]"
   ]
  },
  {
   "cell_type": "code",
   "execution_count": 38,
   "metadata": {},
   "outputs": [
    {
     "data": {
      "application/vnd.jupyter.widget-view+json": {
       "model_id": "dafda6fdcfcf4f1ba2f6adb4a3235104",
       "version_major": 2,
       "version_minor": 0
      },
      "text/plain": [
       "Widget(value='<iframe src=\"http://localhost:59745/index.html?ui=P_0x1454b4dff10_159&reconnect=auto\" class=\"pyv…"
      ]
     },
     "metadata": {},
     "output_type": "display_data"
    },
    {
     "data": {
      "application/vnd.jupyter.widget-view+json": {
       "model_id": "315056113585445cb92552b2e9df7740",
       "version_major": 2,
       "version_minor": 0
      },
      "text/plain": [
       "Widget(value='<iframe src=\"http://localhost:59745/index.html?ui=P_0x144f653efa0_160&reconnect=auto\" class=\"pyv…"
      ]
     },
     "metadata": {},
     "output_type": "display_data"
    },
    {
     "data": {
      "application/vnd.jupyter.widget-view+json": {
       "model_id": "f622f7ff353647d1a83e828ecf60b879",
       "version_major": 2,
       "version_minor": 0
      },
      "text/plain": [
       "Widget(value='<iframe src=\"http://localhost:59745/index.html?ui=P_0x1448ae88fa0_161&reconnect=auto\" class=\"pyv…"
      ]
     },
     "metadata": {},
     "output_type": "display_data"
    }
   ],
   "source": [
    "area_viz = np.ones_like(reconstruct_convert)\n",
    "area_viz = area_viz * 5\n",
    "area_viz = turn_latent_coords_into_val(area_viz, latent_coords=solid_coords, val=217)\n",
    "plotter = visualizer.visualize_chunk(area_viz, interactive=True, show_axis=True, highlight_latents=None, wireframe_highlight=True)\n",
    "frame = plotter.screenshot(transparent_background=True, return_img=True)\n",
    "pil_frame = Image.fromarray(frame)\n",
    "pil_frame.save('generative_solid_struct_coords.png')\n",
    "plotter.show()\n",
    "\n",
    "area_viz = turn_latent_coords_into_val(area_viz, latent_coords=slightly_elevated_coords, val=95)\n",
    "plotter = visualizer.visualize_chunk(area_viz, interactive=True, show_axis=True, highlight_latents=None, wireframe_highlight=True)\n",
    "frame = plotter.screenshot(transparent_background=True, return_img=True)\n",
    "pil_frame = Image.fromarray(frame)\n",
    "pil_frame.save('generative_slightly_elevated_struct_coords.png')\n",
    "plotter.show()\n",
    "\n",
    "\n",
    "area_viz = turn_latent_coords_into_val(area_viz, latent_coords=hill_coords, val=250)\n",
    "plotter = visualizer.visualize_chunk(area_viz, interactive=True, show_axis=True, highlight_latents=None, wireframe_highlight=True)\n",
    "frame = plotter.screenshot(transparent_background=True, return_img=True)\n",
    "pil_frame = Image.fromarray(frame)\n",
    "pil_frame.save('generative_hill_struct_coords.png')\n",
    "plotter.show()"
   ]
  },
  {
   "cell_type": "code",
   "execution_count": 39,
   "metadata": {},
   "outputs": [
    {
     "data": {
      "application/vnd.jupyter.widget-view+json": {
       "model_id": "3ddc029d1c944eb69c3b1f1f353d8ca5",
       "version_major": 2,
       "version_minor": 0
      },
      "text/plain": [
       "Widget(value='<iframe src=\"http://localhost:59745/index.html?ui=P_0x14324ad66a0_162&reconnect=auto\" class=\"pyv…"
      ]
     },
     "metadata": {},
     "output_type": "display_data"
    },
    {
     "data": {
      "application/vnd.jupyter.widget-view+json": {
       "model_id": "98dec64dc1fb4df2bdedab201fdd4d98",
       "version_major": 2,
       "version_minor": 0
      },
      "text/plain": [
       "Widget(value='<iframe src=\"http://localhost:59745/index.html?ui=P_0x14463f42070_163&reconnect=auto\" class=\"pyv…"
      ]
     },
     "metadata": {},
     "output_type": "display_data"
    },
    {
     "data": {
      "application/vnd.jupyter.widget-view+json": {
       "model_id": "8b7b8cd5996c4f299074ab2301b934db",
       "version_major": 2,
       "version_minor": 0
      },
      "text/plain": [
       "Widget(value='<iframe src=\"http://localhost:59745/index.html?ui=P_0x141c67809a0_164&reconnect=auto\" class=\"pyv…"
      ]
     },
     "metadata": {},
     "output_type": "display_data"
    },
    {
     "data": {
      "application/vnd.jupyter.widget-view+json": {
       "model_id": "03be56e6ebd04ef38f491a0b15a06027",
       "version_major": 2,
       "version_minor": 0
      },
      "text/plain": [
       "Widget(value='<iframe src=\"http://localhost:59745/index.html?ui=P_0x141e5ed1790_165&reconnect=auto\" class=\"pyv…"
      ]
     },
     "metadata": {},
     "output_type": "display_data"
    }
   ],
   "source": [
    "val = 166\n",
    "area_viz = np.ones_like(reconstruct_convert)\n",
    "area_viz = area_viz * 5\n",
    "area_viz = turn_latent_coords_into_val(area_viz, latent_coords=solid_coords, val=217)\n",
    "plotter = visualizer.visualize_chunk(area_viz, interactive=True, show_axis=True, highlight_latents=None, wireframe_highlight=True)\n",
    "frame = plotter.screenshot(transparent_background=True, return_img=True)\n",
    "pil_frame = Image.fromarray(frame)\n",
    "pil_frame.save('generative_solid_vs_empty_style_coords.png')\n",
    "plotter.show()\n",
    "\n",
    "# area_viz = np.ones_like(reconstruct_convert)\n",
    "# area_viz = area_viz * 5\n",
    "area_viz = turn_latent_coords_into_val(area_viz, latent_coords=water_style_coords, val=240)\n",
    "plotter = visualizer.visualize_chunk(area_viz, interactive=True, show_axis=True, highlight_latents=None, wireframe_highlight=True)\n",
    "frame = plotter.screenshot(transparent_background=True, return_img=True)\n",
    "pil_frame = Image.fromarray(frame)\n",
    "pil_frame.save('generative_water_style_coords.png')\n",
    "plotter.show()\n",
    "\n",
    "\n",
    "# area_viz = np.ones_like(reconstruct_convert)\n",
    "# area_viz = area_viz * 5\n",
    "area_viz = turn_latent_coords_into_val(area_viz, latent_coords=sand_style_coords, val=194)\n",
    "plotter = visualizer.visualize_chunk(area_viz, interactive=True, show_axis=True, highlight_latents=None, wireframe_highlight=True)\n",
    "frame = plotter.screenshot(transparent_background=True, return_img=True)\n",
    "pil_frame = Image.fromarray(frame)\n",
    "pil_frame.save('generative_sand_style_coords.png')\n",
    "plotter.show()\n",
    "\n",
    "\n",
    "area_viz = turn_latent_coords_into_val(area_viz, latent_coords=grass_style_coords, val=93)\n",
    "plotter = visualizer.visualize_chunk(area_viz, interactive=True, show_axis=True, highlight_latents=None, wireframe_highlight=True)\n",
    "frame = plotter.screenshot(transparent_background=True, return_img=True)\n",
    "pil_frame = Image.fromarray(frame)\n",
    "pil_frame.save('generative_grass_style_coords.png')\n",
    "plotter.show()"
   ]
  },
  {
   "cell_type": "markdown",
   "metadata": {},
   "source": [
    "## Generative Experiment 2"
   ]
  },
  {
   "cell_type": "code",
   "execution_count": 22,
   "metadata": {},
   "outputs": [],
   "source": [
    "sample_name = 'grassbowl'\n",
    "sample = torch.load(f'{sample_name}.pt')\n",
    "# sample = torch.rot90(sample, k=2, dims=(2, 4))\n",
    "\n",
    "# camera_elev_offset = -20\n",
    "\n",
    "with torch.no_grad():\n",
    "    style_indices, struct_indices = encode_and_quantize(fqgan, sample)"
   ]
  },
  {
   "cell_type": "code",
   "execution_count": 25,
   "metadata": {},
   "outputs": [
    {
     "name": "stdout",
     "output_type": "stream",
     "text": [
      "unique style codes: (tensor([ 0,  1,  2,  3,  5,  6,  7,  8,  9, 10, 11, 12, 13, 14, 15]), tensor([66,  2,  1, 20,  4, 49,  1, 14,  8,  4,  7,  9, 20, 10,  1]))\n",
      "number of unique style codes: 15\n",
      "unique struct codes: (tensor([ 1,  2,  3,  4,  5,  6,  7,  8,  9, 10, 11, 12, 13, 14, 15, 16, 18, 20,\n",
      "        22, 23, 24, 25, 26, 27, 28, 29, 30, 31]), tensor([12,  9, 17,  2,  1,  3,  3,  6,  4,  4,  8, 12,  2,  1, 32,  1, 32,  1,\n",
      "         9,  6,  9,  4,  1,  2,  5, 12, 15,  3]))\n",
      "number of unique style codes: 28\n"
     ]
    }
   ],
   "source": [
    "print(f'unique style codes: {torch.unique(style_indices, return_counts=True)}')\n",
    "print(f'number of unique style codes: {len(torch.unique(style_indices))}')\n",
    "print(f'unique struct codes: {torch.unique(struct_indices, return_counts=True)}')\n",
    "print(f'number of unique style codes: {len(torch.unique(struct_indices))}')\n"
   ]
  },
  {
   "cell_type": "code",
   "execution_count": 18,
   "metadata": {},
   "outputs": [
    {
     "data": {
      "application/vnd.jupyter.widget-view+json": {
       "model_id": "7bc36f2ee56f456890c4866b6d4f5792",
       "version_major": 2,
       "version_minor": 0
      },
      "text/plain": [
       "Widget(value='<iframe src=\"http://localhost:63689/index.html?ui=P_0x17d1f9971f0_24&reconnect=auto\" class=\"pyvi…"
      ]
     },
     "metadata": {},
     "output_type": "display_data"
    },
    {
     "name": "stdout",
     "output_type": "stream",
     "text": [
      "solid + rim struct\n",
      "rim top struct\n",
      "rim slope struct\n",
      "grass style\n"
     ]
    },
    {
     "data": {
      "application/vnd.jupyter.widget-view+json": {
       "model_id": "13852ddbfc0441c0bc529bc214dc2313",
       "version_major": 2,
       "version_minor": 0
      },
      "text/plain": [
       "Widget(value='<iframe src=\"http://localhost:63689/index.html?ui=P_0x17d45510880_28&reconnect=auto\" class=\"pyvi…"
      ]
     },
     "metadata": {},
     "output_type": "display_data"
    }
   ],
   "source": [
    "sample_name = 'grassbowl'\n",
    "sample = torch.load(f'{sample_name}.pt')\n",
    "# sample = torch.rot90(sample, k=2, dims=(2, 4))\n",
    "\n",
    "# camera_elev_offset = -20\n",
    "\n",
    "with torch.no_grad():\n",
    "    style_indices, struct_indices = encode_and_quantize(fqgan, sample)\n",
    "reconstructed, binary_recon = decode_from_indices(style_indices, struct_indices, fqgan, two_stage=True)\n",
    "binary_recon = (binary_recon>0.5).float()\n",
    "binary_recon = binary_recon.squeeze()\n",
    "binary_recon[binary_recon == 1] = 217\n",
    "binary_recon[binary_recon == 0] = 5\n",
    "\n",
    "reconstruct_convert = block_converter.convert_to_original_blocks(reconstructed.squeeze())\n",
    "plotter = visualizer.visualize_chunk(reconstruct_convert, interactive=True, show_axis=False)\n",
    "# plotter.camera.elevation += camera_elev_offset\n",
    "frame = plotter.screenshot(transparent_background=True, return_img=True)\n",
    "pil_frame = Image.fromarray(frame)\n",
    "pil_frame.save('generative_2_orig.png')\n",
    "plotter.show()\n",
    "\n",
    "\n",
    "\n",
    "gen_struct_indices = torch.ones_like(struct_indices)\n",
    "gen_style_indices = torch.ones_like(style_indices)\n",
    "\n",
    "# starting val for style latents\n",
    "all_style_val = 3\n",
    "gen_style_indices = gen_style_indices * all_style_val\n",
    "\n",
    "\n",
    "\n",
    "\n",
    "# structure changes\n",
    "solid_coords = [(x, y, z) for x in range(6) for y in [0, 1, 2] for z in  range(6)]\n",
    "\n",
    "bowl_rim_coords = [(x, y, z) for x in range(6) for y in  [3, 4] for z in  [0]]\n",
    "bowl_rim_coords += [(x, y, z) for x in [5] for y in  [3, 4] for z in  range(6)]\n",
    "\n",
    "rim_slope_coords = [(x, y, z) for x in [0, 1, 2, 3, 4] for y in  [2, 3] for z in  [1]]\n",
    "rim_slope_coords += [(x, y, z) for x in [4] for y in  [2, 3] for z in  [1, 2, 3, 4, 5]]\n",
    "rim_slope_coords += [(x, y, z) for x in [4] for y in  [2, 3, 4] for z in  [1]]\n",
    "rim_slope_coords += [(x, y, z) for x in [3] for y in  [2, 3] for z in  [2]]\n",
    "\n",
    "rim_top_coords = [(4, 5, 0), (5, 5, 0), (5, 5, 1)]\n",
    "\n",
    "\n",
    "empty_air_coords = [(x, y, z) for x in [0, 1, 2, 3] for y in [3, 4, 5] for z in [2, 3, 4, 5]]\n",
    "empty_air_coords += [(x, y, z) for x in [0, 1, 2, 3] for y in [5] for z in [0]]\n",
    "empty_air_coords += [(x, y, z) for x in [5] for y in [5] for z in [2, 3, 4, 5]]\n",
    "\n",
    "\n",
    "# # grass style coords\n",
    "grass_style_coords = [(x, y, z) for x in [0, 1, 2, 3] for y in [2, 3] for z in [2, 3, 4, 5]]\n",
    "grass_style_coords += [(x, y, z) for x in [0, 1, 2, 3] for y in [4, 5] for z in [0]]\n",
    "grass_style_coords += [(x, y, z) for x in [5] for y in [4, 5] for z in [2, 3, 4, 5]]\n",
    "grass_style_coords += [(4, 5, 0), (5, 5, 0), (5, 5, 1)]\n",
    "grass_style_coords +=  [(x, y, z) for x in [0, 1, 2, 3, 4] for y in  [3, 4] for z in  [1]]\n",
    "grass_style_coords += [(x, y, z) for x in [4] for y in  [3, 4] for z in  [1, 2, 3, 4, 5]]\n",
    "grass_style_coords += [(x, y, z) for x in [4] for y in  [2, 3, 4] for z in  [1]]\n",
    "grass_style_coords += [(x, y, z) for x in [3] for y in  [2, 3] for z in  [2]]\n",
    "#\n",
    "\n",
    "solid_struct_val = 29   # solid chunk\n",
    "rim_val = 29    # bottom layer filled\n",
    "rim_top_val = 0\n",
    "rim_slope_val = 30\n",
    "\n",
    "rim_slope_style_val = 6\n",
    "rim_top_style_val = 6\n",
    "rim_style_val = 6\n",
    "\n",
    "water_style_val = 2\n",
    "sand_style_val = 4\n",
    "grass_style_val = 6\n",
    "\n",
    "empty_style_val = 6\n",
    "\n",
    "\n",
    "for coord in empty_air_coords:\n",
    "    gen_style_indices[0, coord[0], coord[1], coord[2]] = empty_style_val\n",
    "\n",
    "reconstructed, binary_recon = decode_from_indices(gen_style_indices, gen_struct_indices, fqgan, two_stage=True)\n",
    "\n",
    "\n",
    "\n",
    "for coord in solid_coords:\n",
    "    # gen_style_indices[0, coord[0], coord[1], coord[2]] = island_bottom_style_val\n",
    "    gen_struct_indices[0, coord[0], coord[1], coord[2]] = solid_struct_val\n",
    "\n",
    "for coord in bowl_rim_coords:\n",
    "    # gen_style_indices[0, coord[0], coord[1], coord[2]] = rim_style_val\n",
    "    gen_struct_indices[0, coord[0], coord[1], coord[2]] = rim_val\n",
    "\n",
    "reconstructed, binary_recon = decode_from_indices(gen_style_indices, gen_struct_indices, fqgan, two_stage=True)\n",
    "\n",
    "print(\"solid + rim struct\")\n",
    "reconstruct_convert = block_converter.convert_to_original_blocks(reconstructed.squeeze())\n",
    "plotter = visualizer.visualize_chunk(reconstruct_convert, interactive=True, show_axis=False)\n",
    "frame = plotter.screenshot(transparent_background=True, return_img=True)\n",
    "pil_frame = Image.fromarray(frame)\n",
    "pil_frame.save('generative_2_rim.png')\n",
    "# plotter.show()\n",
    "\n",
    "# \n",
    "for coord in rim_top_coords:\n",
    "    gen_style_indices[0, coord[0], coord[1], coord[2]] = grass_style_val\n",
    "    gen_struct_indices[0, coord[0], coord[1], coord[2]] = rim_top_val\n",
    "\n",
    "reconstructed, binary_recon = decode_from_indices(gen_style_indices, gen_struct_indices, fqgan, two_stage=True)\n",
    "print(\"rim top struct\")\n",
    "reconstruct_convert = block_converter.convert_to_original_blocks(reconstructed.squeeze())\n",
    "plotter = visualizer.visualize_chunk(reconstruct_convert, interactive=True, show_axis=False)\n",
    "frame = plotter.screenshot(transparent_background=True, return_img=True)\n",
    "pil_frame = Image.fromarray(frame)\n",
    "pil_frame.save('generative_2_rim_top.png')\n",
    "# plotter.show()\n",
    "\n",
    "\n",
    "\n",
    "for coord in rim_slope_coords:\n",
    "    gen_style_indices[0, coord[0], coord[1], coord[2]] = grass_style_val\n",
    "    gen_struct_indices[0, coord[0], coord[1], coord[2]] = rim_slope_val\n",
    "\n",
    "reconstructed, binary_recon = decode_from_indices(gen_style_indices, gen_struct_indices, fqgan, two_stage=True)\n",
    "print(\"rim slope struct\")\n",
    "reconstruct_convert = block_converter.convert_to_original_blocks(reconstructed.squeeze())\n",
    "plotter = visualizer.visualize_chunk(reconstruct_convert, interactive=True, show_axis=False)\n",
    "frame = plotter.screenshot(transparent_background=True, return_img=True)\n",
    "pil_frame = Image.fromarray(frame)\n",
    "pil_frame.save('generative_2_rim_slope.png')\n",
    "# plotter.show()\n",
    "\n",
    "for coord in grass_style_coords:\n",
    "    gen_style_indices[0, coord[0], coord[1], coord[2]] = grass_style_val\n",
    "    # gen_struct_indices[0, coord[0], coord[1], coord[2]] = rim_top_val\n",
    "\n",
    "reconstructed, binary_recon = decode_from_indices(gen_style_indices, gen_struct_indices, fqgan, two_stage=True)\n",
    "print('grass style')\n",
    "reconstruct_convert = block_converter.convert_to_original_blocks(reconstructed.squeeze())\n",
    "plotter = visualizer.visualize_chunk(reconstruct_convert, interactive=True, show_axis=False)\n",
    "frame = plotter.screenshot(transparent_background=True, return_img=True)\n",
    "pil_frame = Image.fromarray(frame)\n",
    "pil_frame.save('generative_2_grass.png')\n",
    "plotter.show()\n",
    "\n",
    "\n",
    "#\n"
   ]
  },
  {
   "cell_type": "code",
   "execution_count": 12,
   "metadata": {},
   "outputs": [
    {
     "data": {
      "application/vnd.jupyter.widget-view+json": {
       "model_id": "3752d9fb6919493fa83865538a92fde0",
       "version_major": 2,
       "version_minor": 0
      },
      "text/plain": [
       "Widget(value='<iframe src=\"http://localhost:63689/index.html?ui=P_0x17cfd8fd7f0_5&reconnect=auto\" class=\"pyvis…"
      ]
     },
     "metadata": {},
     "output_type": "display_data"
    },
    {
     "data": {
      "application/vnd.jupyter.widget-view+json": {
       "model_id": "5190b35e9eee47bfb9e277753d885ef3",
       "version_major": 2,
       "version_minor": 0
      },
      "text/plain": [
       "Widget(value='<iframe src=\"http://localhost:63689/index.html?ui=P_0x17cfd9737c0_6&reconnect=auto\" class=\"pyvis…"
      ]
     },
     "metadata": {},
     "output_type": "display_data"
    },
    {
     "data": {
      "application/vnd.jupyter.widget-view+json": {
       "model_id": "de2cd7127c30420bb15d4302acdfbb80",
       "version_major": 2,
       "version_minor": 0
      },
      "text/plain": [
       "Widget(value='<iframe src=\"http://localhost:63689/index.html?ui=P_0x17cfd8fc100_7&reconnect=auto\" class=\"pyvis…"
      ]
     },
     "metadata": {},
     "output_type": "display_data"
    }
   ],
   "source": [
    "area_viz = np.ones_like(reconstruct_convert)\n",
    "area_viz = area_viz * 5\n",
    "area_viz = turn_latent_coords_into_val(area_viz, latent_coords=solid_coords, val=217)\n",
    "area_viz = turn_latent_coords_into_val(area_viz, latent_coords=bowl_rim_coords, val=217)\n",
    "plotter = visualizer.visualize_chunk(area_viz, interactive=True, show_axis=True, highlight_latents=None, wireframe_highlight=True)\n",
    "frame = plotter.screenshot(transparent_background=True, return_img=True)\n",
    "pil_frame = Image.fromarray(frame)\n",
    "pil_frame.save('generative2_solid_struct_coords.png')\n",
    "plotter.show()\n",
    "\n",
    "area_viz = turn_latent_coords_into_val(area_viz, latent_coords=rim_top_coords, val=95)\n",
    "plotter = visualizer.visualize_chunk(area_viz, interactive=True, show_axis=True, highlight_latents=None, wireframe_highlight=True)\n",
    "frame = plotter.screenshot(transparent_background=True, return_img=True)\n",
    "pil_frame = Image.fromarray(frame)\n",
    "pil_frame.save('generative2_rimtop_struct_coords.png')\n",
    "plotter.show()\n",
    "\n",
    "\n",
    "area_viz = turn_latent_coords_into_val(area_viz, latent_coords=rim_slope_coords, val=250)\n",
    "plotter = visualizer.visualize_chunk(area_viz, interactive=True, show_axis=True, highlight_latents=None, wireframe_highlight=True)\n",
    "frame = plotter.screenshot(transparent_background=True, return_img=True)\n",
    "pil_frame = Image.fromarray(frame)\n",
    "pil_frame.save('generative2_slope_struct_coords.png')\n",
    "plotter.show()"
   ]
  },
  {
   "cell_type": "code",
   "execution_count": 19,
   "metadata": {},
   "outputs": [
    {
     "data": {
      "application/vnd.jupyter.widget-view+json": {
       "model_id": "f5169b9489594e75965cedf93a45a105",
       "version_major": 2,
       "version_minor": 0
      },
      "text/plain": [
       "Widget(value='<iframe src=\"http://localhost:63689/index.html?ui=P_0x17d32c68b50_29&reconnect=auto\" class=\"pyvi…"
      ]
     },
     "metadata": {},
     "output_type": "display_data"
    },
    {
     "name": "stdout",
     "output_type": "stream",
     "text": [
      "[(0, 2, 2), (0, 2, 3), (0, 2, 4), (0, 2, 5), (0, 3, 2), (0, 3, 3), (0, 3, 4), (0, 3, 5), (1, 2, 2), (1, 2, 3), (1, 2, 4), (1, 2, 5), (1, 3, 2), (1, 3, 3), (1, 3, 4), (1, 3, 5), (2, 2, 2), (2, 2, 3), (2, 2, 4), (2, 2, 5), (2, 3, 2), (2, 3, 3), (2, 3, 4), (2, 3, 5), (3, 2, 2), (3, 2, 3), (3, 2, 4), (3, 2, 5), (3, 3, 2), (3, 3, 3), (3, 3, 4), (3, 3, 5), (0, 4, 0), (0, 5, 0), (1, 4, 0), (1, 5, 0), (2, 4, 0), (2, 5, 0), (3, 4, 0), (3, 5, 0), (5, 4, 2), (5, 4, 3), (5, 4, 4), (5, 4, 5), (5, 5, 2), (5, 5, 3), (5, 5, 4), (5, 5, 5), (4, 5, 0), (5, 5, 0), (5, 5, 1), (0, 3, 1), (0, 4, 1), (1, 3, 1), (1, 4, 1), (2, 3, 1), (2, 4, 1), (3, 3, 1), (3, 4, 1), (4, 3, 1), (4, 4, 1), (4, 3, 1), (4, 3, 2), (4, 3, 3), (4, 3, 4), (4, 3, 5), (4, 4, 1), (4, 4, 2), (4, 4, 3), (4, 4, 4), (4, 4, 5), (4, 2, 1), (4, 3, 1), (4, 4, 1), (3, 2, 2), (3, 3, 2)]\n"
     ]
    },
    {
     "data": {
      "application/vnd.jupyter.widget-view+json": {
       "model_id": "7281bd4e872b49569e7b889b991bd574",
       "version_major": 2,
       "version_minor": 0
      },
      "text/plain": [
       "Widget(value='<iframe src=\"http://localhost:63689/index.html?ui=P_0x17d1f9be5b0_30&reconnect=auto\" class=\"pyvi…"
      ]
     },
     "metadata": {},
     "output_type": "display_data"
    },
    {
     "name": "stdout",
     "output_type": "stream",
     "text": [
      "A view with name (P_0x17d1f9be5b0_30) is already registered\n",
      " => returning previous one\n"
     ]
    },
    {
     "data": {
      "application/vnd.jupyter.widget-view+json": {
       "model_id": "4d2410b66a7042409bd155d208f0700b",
       "version_major": 2,
       "version_minor": 0
      },
      "text/plain": [
       "Widget(value='<iframe src=\"http://localhost:63689/index.html?ui=P_0x17d1f9be5b0_30&reconnect=auto\" class=\"pyvi…"
      ]
     },
     "metadata": {},
     "output_type": "display_data"
    }
   ],
   "source": [
    "val = 166\n",
    "area_viz = np.ones_like(reconstruct_convert)\n",
    "area_viz = area_viz * 5\n",
    "area_viz = turn_latent_coords_into_val(area_viz, latent_coords=solid_coords, val=217)\n",
    "area_viz = turn_latent_coords_into_val(area_viz, latent_coords=bowl_rim_coords, val=217)\n",
    "plotter = visualizer.visualize_chunk(area_viz, interactive=True, show_axis=True, highlight_latents=None, wireframe_highlight=True)\n",
    "frame = plotter.screenshot(transparent_background=True, return_img=True)\n",
    "pil_frame = Image.fromarray(frame)\n",
    "pil_frame.save('generative2_solid_vs_empty_style_coords.png')\n",
    "plotter.show()\n",
    "\n",
    "# area_viz = np.ones_like(reconstruct_convert)\n",
    "# area_viz = area_viz * 5\n",
    "print(grass_style_coords)\n",
    "val = 166\n",
    "# area_viz = np.ones_like(reconstruct_convert)\n",
    "# area_viz = area_viz * 5\n",
    "area_viz = turn_latent_coords_into_val(area_viz, latent_coords=grass_style_coords, val=93)\n",
    "plotter = visualizer.visualize_chunk(area_viz, interactive=True, show_axis=True, highlight_latents=None, wireframe_highlight=True)\n",
    "frame = plotter.screenshot(transparent_background=True, return_img=True)\n",
    "pil_frame = Image.fromarray(frame)\n",
    "pil_frame.save('generative2_grass_style_coords.png')\n",
    "plotter.show()\n"
   ]
  }
 ],
 "metadata": {
  "kernelspec": {
   "display_name": "py39",
   "language": "python",
   "name": "python3"
  },
  "language_info": {
   "codemirror_mode": {
    "name": "ipython",
    "version": 3
   },
   "file_extension": ".py",
   "mimetype": "text/x-python",
   "name": "python",
   "nbconvert_exporter": "python",
   "pygments_lexer": "ipython3",
   "version": "3.9.18"
  }
 },
 "nbformat": 4,
 "nbformat_minor": 2
}
